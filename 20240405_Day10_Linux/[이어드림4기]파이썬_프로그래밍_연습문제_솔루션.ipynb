{
 "cells": [
  {
   "cell_type": "markdown",
   "metadata": {
    "id": "Xn_bPjW10qHz"
   },
   "source": [
    "## Chapter 파이썬 프로그래밍 기초 연습하기 (총 16문제)"
   ]
  },
  {
   "cell_type": "markdown",
   "metadata": {
    "id": "hR5XfHWy0qIi"
   },
   "source": [
    "## 실습 가이드\n",
    "1. 난이도는 매우 쉬운 문제부터 점차 난이도가 있는 문제로 올라갑니다.\n",
    "\n",
    "2. 이번 파트에서 풀게 될 문제들은 \"파이썬 프로그래밍\" 파트에서 배운 내용들을 기준으로 구성 되었습니다.\n",
    "\n",
    "3. 강의에서 배운 것 뿐만 아니라, 구글링하셔서 자유롭게 코딩하셔도 상관없습니다.\n",
    "> 문제 해결에 집중해서 다양한 방법으로 풀어보세요!"
   ]
  },
  {
   "cell_type": "markdown",
   "metadata": {
    "id": "RlsQsuiB0qIm"
   },
   "source": [
    "### <b>학습목표</b>\n",
    "- 1) 파이썬 데이터 타입의 이해\n",
    "- 2) if문의 이해\n",
    "- 3) for, while문의 이해\n",
    "- 4) 함수(def)의 이해\n",
    "- 5) 외부 라이브러리에 대한 이해\n",
    "- 6) 클래스에 대한 이해"
   ]
  },
  {
   "cell_type": "markdown",
   "metadata": {
    "id": "p3cbNzXr0qIn"
   },
   "source": [
    "- 출제자: 김용담 강사"
   ]
  },
  {
   "cell_type": "markdown",
   "metadata": {
    "id": "rHgTqLGDC1fc"
   },
   "source": [
    "### 문제 01. 숫자 계산1 (5점)\n",
    "\n",
    "- 두 개의 숫자 a, b에 원하는 숫자를 넣고 a가 b의 배수인지 확인하는 코드를 작성하세요.\n",
    "\n",
    "- 배수라면, \"a는 b의 배수입니다.\"를 출력하고, 그렇지 않다면 \"a는 b의 배수가 아닙니다.\"를 출력하세요."
   ]
  },
  {
   "cell_type": "code",
   "execution_count": 1,
   "metadata": {
    "id": "WRNQuBERCyDB"
   },
   "outputs": [
    {
     "name": "stdout",
     "output_type": "stream",
     "text": [
      "a는 b의 배수가 아닙니다.\n"
     ]
    }
   ],
   "source": [
    "a, b = 10, 7\n",
    "\n",
    "if a % b == 0:\n",
    "    print('a는 b의 배수입니다.')\n",
    "else:\n",
    "    print('a는 b의 배수가 아닙니다.')"
   ]
  },
  {
   "cell_type": "markdown",
   "metadata": {
    "id": "Dy8YLqr5FcEL"
   },
   "source": [
    "### 문제 02. 숫자 계산2 (5점)\n",
    "\n",
    "- 주어진 실수값 f, g, h에 대해서 각 실수값을 소수점 세번째 자리에서 반올림한 값을 출력하는 코드를 작성하세요.\n",
    "\n",
    "- 예를 들어 f, g, h가 각각 3.145, 6.1888, 1.00123라면 결과 출력은 3.15, 6.19, 1.00 입니다."
   ]
  },
  {
   "cell_type": "code",
   "execution_count": 2,
   "metadata": {
    "id": "47GXgKIeFcQp"
   },
   "outputs": [
    {
     "name": "stdout",
     "output_type": "stream",
     "text": [
      "f: 3.15, g: 6.19, h: 1.00\n"
     ]
    }
   ],
   "source": [
    "f, g, h = 3.145, 6.1888, 1.00123\n",
    "\n",
    "print(f'f: {f:.2f}, g: {g:.2f}, h: {h:.2f}')"
   ]
  },
  {
   "cell_type": "markdown",
   "metadata": {
    "id": "cQzZX0HjDq_1"
   },
   "source": [
    "### 문제 03. 숫자 계산3 (5점)\n",
    "\n",
    "- 리스트로 주어진 수열 2개가 있습니다. 해당 수열들의 중앙값을 출력하는 코드를 작성해보세요.\n",
    "\n",
    "- 중앙값의 정의는 홀수 개의 숫자에 대해서는 크기 순서대로 가장 가운데 있는 값입니다.\n",
    "\n",
    "- 짝수 개의 숫자에 대해서는 크기 순서대로 가장 가운데 있는 두 개의 숫자의 평균입니다.\n",
    "\n",
    "- 예를 들어, [5, 11, 2, 4] 수열이 주어진다면 정답은 4.5입니다.\n",
    "\n",
    "- [1, 3, 4, 5, 100] 수열이 주어진다면 정답은 4입니다."
   ]
  },
  {
   "cell_type": "code",
   "execution_count": 3,
   "metadata": {
    "id": "I6zp_gEoDqfG"
   },
   "outputs": [
    {
     "name": "stdout",
     "output_type": "stream",
     "text": [
      "17.5 11\n"
     ]
    }
   ],
   "source": [
    "numbers1 = [5, 10, 11, 24, 55, 100]\n",
    "numbers2 = [99, 11, 2, 6, 677, 1001, 3]\n",
    "\n",
    "def find_median(L):\n",
    "    L = sorted(L)\n",
    "    len_L = len(L)\n",
    "    med_idx = int(len_L / 2)\n",
    "\n",
    "    if len_L % 2 == 0:\n",
    "        return (L[med_idx - 1] + L[med_idx]) / 2\n",
    "    else:\n",
    "        return L[med_idx]\n",
    "\n",
    "print(find_median(numbers1), find_median(numbers2))"
   ]
  },
  {
   "cell_type": "markdown",
   "metadata": {
    "id": "B2MLQ8Ff0qIp"
   },
   "source": [
    "### 문제 04. 윤년 계산하기 (7점)\n",
    "\n",
    "- 사용자 입력을 받은 숫자 N이 있습니다.\n",
    "\n",
    "- 주어진 숫자 N이 윤년인지 아닌지 출력하는 코드를 작성해주세요.\n",
    "> print(\"%d년은 윤년입니다.\" % N) **or**\n",
    "> print(\"%d년은 윤년이 아닙니다.\" % N)\n",
    "\n",
    "- 윤년 규칙은 다음과 같습니다.\n",
    "\n",
    "> 1. 4의 배수일 것\n",
    "> 2. 100의 배수가 아닐 것(이 경우엔 1번 조건을 무시합니다.)\n",
    "> 3. 400의 배수일 것 (이 경우엔 2번 조건을 무시합니다.)\n",
    "\n",
    "- 예를 들어, 2004년은 1번 조건을 만족하므로 윤년입니다.\n",
    "- 2000년은 3번 조건을 만족하므로 윤년입니다.\n",
    "- 2100년은 2번 조건을 만족하므로 윤년이 아닙니다.\n"
   ]
  },
  {
   "cell_type": "code",
   "execution_count": 4,
   "metadata": {
    "id": "yEUiebcx0qIq"
   },
   "outputs": [
    {
     "name": "stdout",
     "output_type": "stream",
     "text": [
      "2004년은 윤년입니다.\n"
     ]
    }
   ],
   "source": [
    "N = int(input(\"년도를 입력하세요 : \"))\n",
    "\n",
    "if (N % 4 == 0) and (N % 100 != 0) or (N % 400 == 0):\n",
    "    print('%d년은 윤년입니다.' % N)\n",
    "else:\n",
    "    print('%d년은 윤년이 아닙니다.' % N)"
   ]
  },
  {
   "cell_type": "markdown",
   "metadata": {
    "id": "cupV8lpw0qIr"
   },
   "source": [
    "### 문제 05. 평균 계산하기 (5점)\n",
    "\n",
    "- 철수는 5개의 과목에서 주어진 리스트와 같은 성적을 받았습니다.\n",
    "\n",
    "- 철수가 받은 성적의 평균을 계산하는 코드를 작성하세요."
   ]
  },
  {
   "cell_type": "code",
   "execution_count": 5,
   "metadata": {
    "id": "rrtfD32hD-yz"
   },
   "outputs": [
    {
     "name": "stdout",
     "output_type": "stream",
     "text": [
      "평균: 65.6\n"
     ]
    }
   ],
   "source": [
    "# 각 성적은 0~100점 사이입니다.\n",
    "grades = [65, 70, 100, 43, 50]\n",
    "\n",
    "print(f'평균: {sum(grades) / len(grades)}')"
   ]
  },
  {
   "cell_type": "markdown",
   "metadata": {
    "id": "YZMNz6Es0qIs"
   },
   "source": [
    "### 문제 06. 십의 자리 숫자 구하기 (5점)\n",
    "\n",
    "- 사용자 입력을 받는 두 자리 이상 숫자 N에 대해서, 십의 자리 숫자를 출력하는 코드를 작성해보세요.\n",
    "\n",
    "- 예를 들어, 12097509172099019385이 입력으로 들어오면 출력 결과는 8\n",
    "- 80135789164791672903791035719037이 입력으로 들어오면 출력 결과는 3\n",
    "- 34가 입력으로 들어오면 출력 결과는 3"
   ]
  },
  {
   "cell_type": "code",
   "execution_count": 6,
   "metadata": {
    "id": "SWLusfet0qIt"
   },
   "outputs": [
    {
     "name": "stdout",
     "output_type": "stream",
     "text": [
      "7\n"
     ]
    }
   ],
   "source": [
    "N = 1379051792057190751092830178\n",
    "\n",
    "print(N % 100 // 10)"
   ]
  },
  {
   "cell_type": "markdown",
   "metadata": {
    "id": "v9PMA9ZOBJSk"
   },
   "source": [
    "### 문제 07. 단어 고치기 (5점)\n",
    "\n",
    "- 영희는 문장을 빠르게 입력하다가, 'w'를 모두 'q'라고 작성해버렸습니다.\n",
    "\n",
    "- 주어진 문장들을 모두 맞게 변경하여 주세요.\n",
    "> 단, 주어진 모든 문장에 사용된 'q'는 'w'가 변경된 것이라고 가정합니다.\n",
    "\n",
    "- 예를 들면, \"I am wuitting this exam.\" -> \"I am quitting this exam.\"\n",
    "- \"This is the wuickest approach I ever seen.\" -> \"Thie is the quickest approach I ever seen.\"\n",
    "- \"The wueen should make wuick decision\" -> \"The queen should make quick decision.\""
   ]
  },
  {
   "cell_type": "code",
   "execution_count": 7,
   "metadata": {
    "id": "LqYtcDqX0qIw"
   },
   "outputs": [
    {
     "data": {
      "text/plain": [
       "['I am quitting this exam.',\n",
       " 'This is quickest approach I ever seen.',\n",
       " 'The queen should make quick decision.']"
      ]
     },
     "execution_count": 7,
     "metadata": {},
     "output_type": "execute_result"
    }
   ],
   "source": [
    "sentences = [\"I am wuitting this exam.\", \"This is wuickest approach I ever seen.\", \"The wueen should make wuick decision.\"]\n",
    "[sentence.replace('w', 'q') for sentence in sentences]"
   ]
  },
  {
   "cell_type": "markdown",
   "metadata": {
    "id": "GkBEQj9G0qI0"
   },
   "source": [
    "### 문제 08. 단어 개수 파악하기 (7점)\n",
    "\n",
    "- 주어진 문장들에 대해서 몇 개의 단어가 있는지 출력하는 코드를 작성하세요.\n",
    "\n",
    "- 예를 들어, \"I am quitting this exam\"이란 문장은 5개의 단어가 있습니다.\n",
    "\n",
    "- \"This is quickest approach I ever seen.\"이란 문장은 7개의 단어가 있습니다."
   ]
  },
  {
   "cell_type": "code",
   "execution_count": 8,
   "metadata": {
    "id": "HcmHjiQ10qI0"
   },
   "outputs": [
    {
     "data": {
      "text/plain": [
       "[5, 7, 6]"
      ]
     },
     "execution_count": 8,
     "metadata": {},
     "output_type": "execute_result"
    }
   ],
   "source": [
    "sentences = [\"I am quitting this exam.\", \"This is quickest approach I ever seen.\", \"The queen should make quick decision.\"]\n",
    "[len(sentence.split()) for sentence in sentences]"
   ]
  },
  {
   "cell_type": "markdown",
   "metadata": {
    "id": "AxBl-tOeAE1o"
   },
   "source": [
    "### 문제 09. 농구부를 뽑아볼까요? (7점)\n",
    " - 허재 감독이 미래의 농구 꿈나무를 선발하여 농구부를 만든다고 합니다.\n",
    " - 주어진 class_A에서 키가 175cm 이상인 친구들을 뽑아서 농구부를 결성한다고 합니다.\n",
    " - basketball_team  이라는 빈 리스트를 작성하여, 농구부가 될 아이들의 이름만 추가하는 코드를 작성해보세요.\n",
    " - 마지막에 basketball_team 을 출력해봅시다."
   ]
  },
  {
   "cell_type": "code",
   "execution_count": 9,
   "metadata": {
    "id": "7B7Er3fJSrl9"
   },
   "outputs": [
    {
     "name": "stdout",
     "output_type": "stream",
     "text": [
      "['유재석', '서장훈']\n"
     ]
    }
   ],
   "source": [
    "class_A = {\"양세형\": 146, \"유세윤\": 160, \"서강준\": 167, \"유재석\": 175.3, \"서장훈\": 207}\n",
    "\n",
    "basket_ball = []\n",
    "\n",
    "## 코드를 작성해보세요 ##\n",
    "\n",
    "for name, height in class_A.items():\n",
    "    if height >= 175:\n",
    "        basket_ball.append(name)\n",
    "\n",
    "print(basket_ball)"
   ]
  },
  {
   "cell_type": "markdown",
   "metadata": {
    "id": "RDinWK3kF7Od"
   },
   "source": [
    "### 문제 10. 구구단 가로 출력 (for문) (10점)\n",
    "- 다음처럼 구구단을 가로로 출력해봅시다.\n",
    "    \n",
    "```\n",
    "2x1=2, 3x1=3, ..., 9x1=9\n",
    "...\n",
    "2x9=18, 3x9=27, ..., 9x9= 81\n",
    "```\n",
    "\n",
    "> HINT\n",
    "- print: end = \"\\t\""
   ]
  },
  {
   "cell_type": "code",
   "execution_count": 10,
   "metadata": {
    "id": "TGX9_GgWGK0f"
   },
   "outputs": [
    {
     "name": "stdout",
     "output_type": "stream",
     "text": [
      "2x1=2\t3x1=3\t4x1=4\t5x1=5\t6x1=6\t7x1=7\t8x1=8\t9x1=9\t\n",
      "2x2=4\t3x2=6\t4x2=8\t5x2=10\t6x2=12\t7x2=14\t8x2=16\t9x2=18\t\n",
      "2x3=6\t3x3=9\t4x3=12\t5x3=15\t6x3=18\t7x3=21\t8x3=24\t9x3=27\t\n",
      "2x4=8\t3x4=12\t4x4=16\t5x4=20\t6x4=24\t7x4=28\t8x4=32\t9x4=36\t\n",
      "2x5=10\t3x5=15\t4x5=20\t5x5=25\t6x5=30\t7x5=35\t8x5=40\t9x5=45\t\n",
      "2x6=12\t3x6=18\t4x6=24\t5x6=30\t6x6=36\t7x6=42\t8x6=48\t9x6=54\t\n",
      "2x7=14\t3x7=21\t4x7=28\t5x7=35\t6x7=42\t7x7=49\t8x7=56\t9x7=63\t\n",
      "2x8=16\t3x8=24\t4x8=32\t5x8=40\t6x8=48\t7x8=56\t8x8=64\t9x8=72\t\n",
      "2x9=18\t3x9=27\t4x9=36\t5x9=45\t6x9=54\t7x9=63\t8x9=72\t9x9=81\t\n"
     ]
    }
   ],
   "source": [
    "## 코드를 작성해보세요\n",
    "for number in range(1, 10):\n",
    "    for dan in range(2, 10):\n",
    "        print(f'{dan}x{number}={dan*number}', end='\\t')\n",
    "    print()"
   ]
  },
  {
   "cell_type": "markdown",
   "metadata": {
    "id": "iQyPWPbFN5rk"
   },
   "source": [
    "### 문제 11. 로또 번호 6개를 담을 빈 리스트를 'lotto_numbers'라는 변수에 선언하고, 1 ~ 45 까지의 임의로 나오는 숫자 1개를 이 리스트에 추가해볼까요? (5점)\n",
    "> HINT : import random"
   ]
  },
  {
   "cell_type": "code",
   "execution_count": 11,
   "metadata": {
    "id": "PgDkSY9ON5FR"
   },
   "outputs": [
    {
     "name": "stdout",
     "output_type": "stream",
     "text": [
      "[41]\n"
     ]
    }
   ],
   "source": [
    "import random\n",
    "random.seed(42)\n",
    "\n",
    "lotto_numbers = []\n",
    "lotto_numbers.append(random.randint(1, 45))\n",
    "print(f'{lotto_numbers}')"
   ]
  },
  {
   "cell_type": "markdown",
   "metadata": {
    "id": "jX1VKUU7Q7W0"
   },
   "source": [
    "### 문제 12. if 조건문으로 lotto_numbers에 lotto_num을 중복없이 추가하는 코드를 작성해봅시다. (7점)\n",
    "\n",
    "- 문제 11에서 임의로 숫자를 추출하다보면, 숫자가 중복되어 추출될 수 있습니다. 로또에는 숫자가 중복될 수 없기 때문입니다.\n",
    "\n",
    "> HINT: not in"
   ]
  },
  {
   "cell_type": "code",
   "execution_count": 12,
   "metadata": {
    "id": "Xk15ueweg48f"
   },
   "outputs": [
    {
     "name": "stdout",
     "output_type": "stream",
     "text": [
      "[41, 8]\n"
     ]
    }
   ],
   "source": [
    "## 먼저 다음 코드를 한 번 더 실행하여 임의로 숫자 하나를 더 뽑아봅시다.\n",
    "lotto_num = random.randint(1, 45)\n",
    "\n",
    "if lotto_num not in lotto_numbers:\n",
    "    lotto_numbers.append(lotto_num)\n",
    "\n",
    "print(f'{lotto_numbers}')"
   ]
  },
  {
   "cell_type": "markdown",
   "metadata": {
    "id": "a0bmlmpFUMt_"
   },
   "source": [
    "### 문제 13. 로또 번호 6개를 뽑아보는 코드를 작성해봅시다. 단, 중복이 포함되어 있으면 안됩니다. (7점)\n"
   ]
  },
  {
   "cell_type": "code",
   "execution_count": 13,
   "metadata": {
    "id": "HlsFDHwViJUL"
   },
   "outputs": [
    {
     "name": "stdout",
     "output_type": "stream",
     "text": [
      "[41, 8, 2, 18, 16, 15]\n"
     ]
    }
   ],
   "source": [
    "## 코드를 작성하세요\n",
    "while len(lotto_numbers) < 6:\n",
    "    lotto_num = random.randint(1, 45)\n",
    "\n",
    "    if lotto_num not in lotto_numbers:\n",
    "        lotto_numbers.append(lotto_num)\n",
    "\n",
    "print(f'{lotto_numbers}')"
   ]
  },
  {
   "cell_type": "markdown",
   "metadata": {
    "id": "1GAR9T9Qc8w3"
   },
   "source": [
    "### 문제 14. 이번에는 lotto_generator() 라는 함수로 만들어볼까요? (7점)\n",
    "- 매번 3~4줄의 코드를 작성하는 것보다, 함수로 구현해놓고, 원할 때마다 함수를 실행해서 로또 번호 6개가 나오게끔 하면 훨씬 편하지 않을까요?\n"
   ]
  },
  {
   "cell_type": "code",
   "execution_count": 14,
   "metadata": {
    "id": "iYbvxSYmcgCB"
   },
   "outputs": [
    {
     "name": "stdout",
     "output_type": "stream",
     "text": [
      "[9, 7, 44, 35, 6, 38]\n"
     ]
    }
   ],
   "source": [
    "## 코드를 작성해보세요\n",
    "\n",
    "def lotto_generator():\n",
    "    '''\n",
    "    lotto_generator 함수를 실행하면 랜덤으로 뽑은 1 ~ 45 사이의 숫자 6개가 중복없이 뽑혀야 합니다.\n",
    "    '''\n",
    "    numbers = []\n",
    "    \n",
    "    while len(numbers) < 6:\n",
    "        lotto_num = random.randint(1, 45)\n",
    "    \n",
    "        if lotto_num not in numbers:\n",
    "            numbers.append(lotto_num)\n",
    "    \n",
    "    return numbers\n",
    "\n",
    "print(f'{lotto_generator()}')"
   ]
  },
  {
   "cell_type": "markdown",
   "metadata": {
    "id": "-FcwwPdhgCh5"
   },
   "source": [
    "### 문제 15. 음식 주문 시스템 만들기 (13점)\n",
    "\n",
    "이 시스템은 메뉴를 관리하고, 주문을 받아 처리하는 기능을 가집니다. 여기서는 메뉴 클래스(Menu), 주문 클래스(Order), 그리고 주문 관리 클래스(OrderManager)를 구현합니다.\n",
    "\n",
    "1. **Menu 클래스**: 음식 이름과 가격을 관리합니다.\n",
    "2. **Order 클래스**: 특정 메뉴 항목에 대한 주문을 담습니다. 주문 번호와 주문한 메뉴 항목의 리스트를 포함합니다.\n",
    "3. **OrderManager 클래스**: 모든 주문을 관리합니다. 새 주문을 추가하고, 모든 주문을 보여주는 기능을 가집니다.\n",
    "\n",
    "위의 3가지를 기능을 아래 템플릿에 맞춰서 클래스로 구현해보세요.\n",
    "클래스 구현이 완료되면, 아래 실행 예시가 올바르게 실행되어야 합니다!"
   ]
  },
  {
   "cell_type": "code",
   "execution_count": 15,
   "metadata": {
    "id": "6rWsHytBp-ob"
   },
   "outputs": [
    {
     "name": "stdout",
     "output_type": "stream",
     "text": [
      "Order ID: 1\n",
      "Items Ordered:\n",
      "Pizza: $10\n",
      "Salad: $5\n",
      "\n",
      "Order ID: 2\n",
      "Items Ordered:\n",
      "Pasta: $8\n",
      "\n"
     ]
    }
   ],
   "source": [
    "### 1. Menu 클래스\n",
    "class Menu:\n",
    "    def __init__(self, name, price):\n",
    "        self.name = name\n",
    "        self.price = price\n",
    "\n",
    "### 2. Order 클래스\n",
    "class Order:\n",
    "    def __init__(self, order_id):\n",
    "        self.order_id = order_id\n",
    "        self.menu = []\n",
    "\n",
    "    def add_item(self, ordered):\n",
    "        self.menu.append(ordered)\n",
    "\n",
    "### 3. OrderManager 클래스\n",
    "class OrderManager:\n",
    "    def __init__(self):\n",
    "        self.orders = []\n",
    "        self.order_id = 1\n",
    "    \n",
    "    def new_order(self):\n",
    "        order = Order(self.order_id)\n",
    "        self.orders.append(order)\n",
    "        self.order_id += 1\n",
    "        return order\n",
    "    \n",
    "    def show_all_orders(self):\n",
    "        for order in self.orders:\n",
    "            print(f\"Order ID: {order.order_id}\")\n",
    "            print(\"Items Ordered:\")\n",
    "            \n",
    "            for item in order.menu:\n",
    "                print(f\"{item.name}: ${item.price}\")\n",
    "            print(\"\")\n",
    "\n",
    "### 사용 예\n",
    "# 메뉴 항목 생성\n",
    "pizza = Menu(\"Pizza\", 10)\n",
    "pasta = Menu(\"Pasta\", 8)\n",
    "salad = Menu(\"Salad\", 5)\n",
    "\n",
    "# 주문 관리자 생성\n",
    "order_manager = OrderManager()\n",
    "\n",
    "# 새 주문 생성\n",
    "order1 = order_manager.new_order()\n",
    "order1.add_item(pizza)\n",
    "order1.add_item(salad)\n",
    "\n",
    "# 또 다른 주문 생성\n",
    "order2 = order_manager.new_order()\n",
    "order2.add_item(pasta)\n",
    "\n",
    "# 모든 주문 보기\n",
    "order_manager.show_all_orders()\n",
    "\n",
    "\n",
    "## 아래는 show_all_orders 실행결과\n",
    "# Order ID: 1\n",
    "# Items Ordered:\n",
    "# Pizza: $10\n",
    "# Salad: $5\n",
    "\n",
    "# Order ID: 2\n",
    "# Items Ordered:\n",
    "# Pasta: $8"
   ]
  },
  {
   "cell_type": "markdown",
   "metadata": {
    "id": "fMy604g-jRLV"
   },
   "source": [
    "### [BONUS] 문제16. 학교 관리 시스템 (20점)\n",
    "\n",
    "학교에는 여러 학생들이 있고, 각 학생은 다양한 과목의 성적을 가집니다. 학교 관리 시스템을 구축하여 학생들의 정보를 관리하고, 특정 기준에 따라 우수 학생을 선별할 수 있는 프로그램을 작성하세요.\n",
    "\n",
    "#### 요구 사항:\n",
    "\n",
    "1. **Student 클래스**를 생성합니다. 이 클래스는 학생의 이름, 학번, 그리고 성적(과목명과 점수의 딕셔너리)을 속성으로 가집니다.\n",
    "2. **School 클래스**를 생성합니다. 이 클래스는 학생 객체의 리스트를 관리하며, 학생을 추가하고, 전체 학생 정보를 출력하는 메서드를 포함해야 합니다.\n",
    "3. School 클래스에는 평균 점수가 특정 기준 이상인 학생들만을 선별하여 그 목록을 반환하는 메서드도 포함시킵니다. 이 메서드는 평균 점수 기준값을 매개변수로 받습니다.\n",
    "\n",
    "아래 템플릿 코드를 사용하여, 출력 예시가 올바르게 나오도록 코드를 완성해보세요!"
   ]
  },
  {
   "cell_type": "code",
   "execution_count": 16,
   "metadata": {
    "id": "a3hnTuNkgewP"
   },
   "outputs": [
    {
     "name": "stdout",
     "output_type": "stream",
     "text": [
      "전체 학생\n",
      "김용담(A01)\n",
      "이홍주(A02)\n",
      "이희상(A03)\n",
      "김영주(A04)\n",
      "\n",
      "평균 점수 85점 이상 학생:\n",
      "이희상 (A03), 평균 점수: 88.33\n",
      "김영주 (A04), 평균 점수: 87.33\n"
     ]
    }
   ],
   "source": [
    "# 템플릿 코드\n",
    "class Student:\n",
    "    def __init__(self, name, student_id, grade):\n",
    "        self.name = name\n",
    "        self.student_id = student_id\n",
    "        self.grade = grade\n",
    "\n",
    "    def calculate_average(self):\n",
    "        return sum(self.grade.values()) / len(self.grade)\n",
    "\n",
    "\n",
    "class School:\n",
    "    def __init__(self):\n",
    "        self.students = []\n",
    "\n",
    "    def add_student(self, student):\n",
    "        self.students.append(student)\n",
    "\n",
    "    def print_students(self):\n",
    "        print('전체 학생')\n",
    "        for student in self.students:\n",
    "            print(f\"{student.name}({student.student_id})\")\n",
    "\n",
    "    def get_top_students(self, threshold):\n",
    "        return [student for student in self.students if student.calculate_average() >= threshold]\n",
    "\n",
    "# 예제 사용\n",
    "school = School()\n",
    "school.add_student(Student(\"김용담\", \"A01\", {\"수학\": 100, \"과학\": 95, \"영어\" : 50}))\n",
    "school.add_student(Student(\"이홍주\", \"A02\", {\"수학\": 85, \"과학\": 95, \"영어\" : 66}))\n",
    "school.add_student(Student(\"이희상\", \"A03\", {\"수학\": 77, \"과학\": 88, \"영어\" : 100}))\n",
    "school.add_student(Student(\"김영주\", \"A04\", {\"수학\": 92, \"과학\": 100, \"영어\" : 70}))\n",
    "\n",
    "school.print_students()\n",
    "\n",
    "top_students = school.get_top_students(85)\n",
    "print(\"\\n평균 점수 85점 이상 학생:\")\n",
    "for student in top_students:\n",
    "    average_score = student.calculate_average()\n",
    "    print(f\"{student.name} ({student.student_id}), 평균 점수: {average_score:.2f}\")\n",
    "\n",
    "## 출력 결과\n",
    "# 이희상 (A03), 평균 점수: 88.33\n",
    "# 김영주 (A04), 평균 점수: 87.33"
   ]
  },
  {
   "cell_type": "code",
   "execution_count": null,
   "metadata": {},
   "outputs": [],
   "source": []
  }
 ],
 "metadata": {
  "colab": {
   "provenance": []
  },
  "kernelspec": {
   "display_name": "Python 3 (ipykernel)",
   "language": "python",
   "name": "python3"
  },
  "language_info": {
   "codemirror_mode": {
    "name": "ipython",
    "version": 3
   },
   "file_extension": ".py",
   "mimetype": "text/x-python",
   "name": "python",
   "nbconvert_exporter": "python",
   "pygments_lexer": "ipython3",
   "version": "3.11.5"
  },
  "toc": {
   "base_numbering": 1,
   "nav_menu": {},
   "number_sections": true,
   "sideBar": true,
   "skip_h1_title": false,
   "title_cell": "Table of Contents",
   "title_sidebar": "Contents",
   "toc_cell": false,
   "toc_position": {},
   "toc_section_display": true,
   "toc_window_display": false
  }
 },
 "nbformat": 4,
 "nbformat_minor": 4
}
