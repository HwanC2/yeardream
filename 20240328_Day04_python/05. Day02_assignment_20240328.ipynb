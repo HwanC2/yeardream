{
 "cells": [
  {
   "cell_type": "markdown",
   "metadata": {},
   "source": [
    "**[문제 1]**\n",
    "\n",
    "다음 dictionary에서 학생별 평균 점수를 출력하세요."
   ]
  },
  {
   "cell_type": "code",
   "execution_count": null,
   "metadata": {},
   "outputs": [],
   "source": [
    "grades = {\n",
    "    \"Alice\": {\"Math\": 88, \"Science\": 90, \"English\": 97, \"History\": 82},\n",
    "    \"Bob\": {\"Math\": 92, \"Science\": 78, \"English\": 85, \"History\": 88},\n",
    "    \"Charlie\": {\"Math\": 87, \"Science\": 95, \"English\": 80, \"History\": 92}\n",
    "}"
   ]
  },
  {
   "cell_type": "code",
   "execution_count": null,
   "metadata": {},
   "outputs": [],
   "source": [
    "# 학생별 평균 구하기\n",
    "\n",
    "# 학생들의 수만큼 반복\n",
    "for student, subjects in grades.items():\n",
    "    # 학생별 점수 합계 = 과목 점수 총합\n",
    "    total_score = sum(subjects.values())\n",
    "    # 평균 구하기 = 합계 / 과목수\n",
    "    average = total_score / len(subjects)\n",
    "    # 점수 출력\n",
    "    print(f\"{student}의 과목별 점수 총합은 {total_score}이며 평균은 {average:.2f}입니다.\")"
   ]
  },
  {
   "cell_type": "markdown",
   "metadata": {},
   "source": [
    "## 문제 2: 비밀번호 강도 체크\n",
    "사용자로부터 비밀번호를 입력받아, 그 비밀번호가 강한지 약한지를 평가하는 프로그램을 작성하세요. 비밀번호 강도는 다음 조건에 따라 결정됩니다:\n",
    "\n",
    "8자리 이상, 숫자와 영문자(대문자 및 소문자)를 모두 포함: \"강함\"\n",
    "그렇지 않으면: \"약함\"\n",
    "\n",
    "[HINT] str.isalpha(), str.isdigit(), str.isalnum()"
   ]
  },
  {
   "cell_type": "code",
   "execution_count": 17,
   "metadata": {},
   "outputs": [
    {
     "name": "stdout",
     "output_type": "stream",
     "text": [
      "강함\n",
      "강함\n"
     ]
    }
   ],
   "source": [
    "password = \"abnaklsfjklas1234\"\n",
    "\n",
    "\n",
    "# 1)\n",
    "if len(password) >= 8:\n",
    "    if password.isalnum():\n",
    "        if password.isalpha(): # aaaaaaaaaa\n",
    "            print(\"약함\")\n",
    "        elif password.isdigit(): # 111111111\n",
    "            print(\"약함\")\n",
    "        else:  # a1b2c3d4d5\n",
    "            print(\"강함\")\n",
    "    else:    # a1b2c3d4**\n",
    "        print(\"약함\")\n",
    "\n",
    "else: # aaaaa\n",
    "    print(\"약함\")\n",
    "\n",
    "\n",
    "# 2)\n",
    "if len(password) >= 8 and password.isalnum():\n",
    "        if password.isalpha(): # aaaaaaaaaa\n",
    "            print(\"약함\")\n",
    "        elif password.isdigit(): # 111111111\n",
    "            print(\"약함\")\n",
    "        else:  # a1b2c3d4d5\n",
    "            print(\"강함\")\n",
    "else: # aaaaa, a1b2c3d4**\n",
    "    print(\"약함\")"
   ]
  },
  {
   "cell_type": "markdown",
   "metadata": {},
   "source": [
    "## 문제 3. 유저 로그인 관리\n",
    "아래 users라는 dictionary에는 각 유저들의 이름과 해당 유저의 password, user_role이 순서대로 리스트로 주어져있다.\n",
    "users를 이용하여 3가지 기능을 구현하라.\n",
    "\n",
    "1. 유저의 이름을 입력받고, 입력받은 유저의 이름이 users에 없다면 \"Access Denied\"를 출력할 것.\n",
    "2. 유저의 이름을 입력받고, 입력받은 유저의 이름이 users에 있다면, 비밀번호를 입력받고 맞다면 \"Pass\"를 틀리다면 \"Wrong Password\"를 출력할 것.\n",
    "3. 정확하게 로그인이 되었다면, user_role를 보고 \"admin\"이라는 \"Full Access\"를 \"editor\"라면 \"Edit Permission\"을 \"viewer\"라면 \"View Permission\"을 출력할 것."
   ]
  },
  {
   "cell_type": "code",
   "execution_count": null,
   "metadata": {},
   "outputs": [],
   "source": [
    "users = {\n",
    "    \"admin\": [\"0000\", \"admin\"],\n",
    "    \"yongdam\": [\"911210\", \"editor\"],\n",
    "    \"hongju\": [\"yeardream\", \"viewer\"]\n",
    "}\n",
    "\n",
    "# login part (1)\n",
    "username = input(\"Enter username: \")\n",
    "if username not in users:\n",
    "    print(\"Access Denied\")\n",
    "else: # (2)\n",
    "    password = int(input(\"Enter password: \"))\n",
    "    if users[username][0] == password:\n",
    "        print(\"Pass\")\n",
    "    else:\n",
    "        print(\"Wrong Password\")\n",
    "\n",
    "    # user별 access 제공 (3)\n",
    "    role = users[username][1]\n",
    "    if role == \"admin\":\n",
    "        print(\"Access Granted: Full Access\")\n",
    "    elif role == \"editor\":\n",
    "        print(\"Access Granted: Edit Permissions\")\n",
    "    elif role == \"viewer\":\n",
    "        print(\"Access Granted: View Permissions\")\n",
    "    else:\n",
    "        print(\"Access Denied: Role Unknown\")"
   ]
  },
  {
   "cell_type": "code",
   "execution_count": null,
   "metadata": {},
   "outputs": [],
   "source": []
  }
 ],
 "metadata": {
  "kernelspec": {
   "display_name": "Python 3 (ipykernel)",
   "language": "python",
   "name": "python3"
  },
  "language_info": {
   "codemirror_mode": {
    "name": "ipython",
    "version": 3
   },
   "file_extension": ".py",
   "mimetype": "text/x-python",
   "name": "python",
   "nbconvert_exporter": "python",
   "pygments_lexer": "ipython3",
   "version": "3.11.7"
  }
 },
 "nbformat": 4,
 "nbformat_minor": 2
}
