{
 "cells": [
  {
   "cell_type": "markdown",
   "metadata": {
    "id": "gkrOA3DckInF"
   },
   "source": [
    "## Iteration(while, For)"
   ]
  },
  {
   "cell_type": "markdown",
   "metadata": {
    "id": "mtXkUXvIkInJ"
   },
   "source": [
    "### 1. `while` statement"
   ]
  },
  {
   "cell_type": "markdown",
   "metadata": {
    "id": "ls3vASjdkInK"
   },
   "source": [
    "- while문은 **조건을 만족할 때 까지 반복**한다.\n",
    "\n",
    "\n",
    "- while (조건):\n",
    "       <statement1>\n",
    "       <statement2>\n",
    "       <statement3>\n",
    "           \n",
    "- 조건이 만족하는 동안(while) statement1, 2, 3을 반복한다."
   ]
  },
  {
   "cell_type": "markdown",
   "metadata": {
    "id": "TIWjnK1VkInK"
   },
   "source": [
    "#### 구구단을 통해 연습해봅시다!"
   ]
  },
  {
   "cell_type": "code",
   "execution_count": 11,
   "metadata": {
    "id": "vI78_M1ekInK"
   },
   "outputs": [],
   "source": [
    "# 2단을 while문으로 구현해봅시다.\n",
    "# 1)\n",
    "number = 0   # initialization(초기화)\n",
    "while number <= 9: # 1 <= number <= 9\n",
    "    if number == 0:\n",
    "        number = number + 1\n",
    "    else:\n",
    "        print(f\"2 x {number} = {2*number}\")\n",
    "        number = number + 1\n",
    "\n",
    "# 2)\n",
    "while number < 9:\n",
    "    number = number + 1\n",
    "    print(f\"2 x {number} = {2*number}\")"
   ]
  },
  {
   "cell_type": "markdown",
   "metadata": {
    "id": "cW2Gd6X6kInL"
   },
   "source": [
    "#### 실제 자판기 기계는 돈을 한번 넣고 종료되지 않는다. 자판기 기계(프로그램)이 종료되는 경우는 커피가 다 떨어졌을 때이다.\n",
    "\n",
    "> Q. 커피가 다 질때까지 자판기 프로그램을 반복하면서 실행한 뒤, 돈을 입력받아서 커피를 주는 프로그램을 작성해보자."
   ]
  },
  {
   "cell_type": "code",
   "execution_count": 1,
   "metadata": {
    "id": "zqLVUh-JkInM"
   },
   "outputs": [
    {
     "name": "stdout",
     "output_type": "stream",
     "text": [
      "Coffee\n",
      "거스름돈 200원을 반환합니다.\n",
      "Coffee\n",
      "100원을 반환합니다.\n",
      "Coffee\n",
      "거스름돈 700원을 반환합니다.\n",
      "Coffee\n",
      "Coffee\n",
      "거스름돈 2700원을 반환합니다.\n",
      "커피가 모두 소진되었으니, 관리자에게 문의해주세요.\n"
     ]
    }
   ],
   "source": [
    "# 자판기의 커피 수량\n",
    "coffee = 5\n",
    "\n",
    "# 커피가 남아있는 동안 작동!\n",
    "while coffee > 0:\n",
    "\n",
    "    # 실제로는 자판기를 통해서 넣은 금액.\n",
    "    # 700\n",
    "    money = int(input(\"금액을 입력해주세요 : \"))\n",
    "    \n",
    "    if money == 300:\n",
    "        print(\"Coffee\")\n",
    "        coffee = coffee - 1\n",
    "        \n",
    "    elif money < 300:\n",
    "        print(f\"{money}원을 반환합니다.\")\n",
    "     \n",
    "    else: # or elif money > 300:\n",
    "        print(\"Coffee\")\n",
    "        print(f\"거스름돈 {money-300}원을 반환합니다.\")\n",
    "        coffee = coffee - 1\n",
    "        \n",
    "    # 커피가 다 떨어진 경우 알려야한다.\n",
    "print(\"커피가 모두 소진되었으니, 관리자에게 문의해주세요.\")"
   ]
  },
  {
   "cell_type": "markdown",
   "metadata": {
    "id": "iZgZ2ODQkInN"
   },
   "source": [
    "### 2. `for` statement"
   ]
  },
  {
   "cell_type": "markdown",
   "metadata": {
    "id": "KDtdz3TSkInN"
   },
   "source": [
    "- while문은 조건이 만족하는 동안 반복을 수행했지만, for문은 지정 횟수동안 반복을 수행한다.\n",
    "> 여기서 지정된 횟수라는 것은 반복 대상의 크기가 된다.\n",
    "\n",
    "\n",
    "- 보통 iteratable object(반복 가능한 객체)를 대상으로 수행되며, 연속형 데이터 타입 변수들이 여기에 해당된다.\n",
    "> List, Tuple, string, ...\n",
    "\n",
    "\n",
    "- for 변수 in 리스트(튜플, 문자열, iterator):\n",
    "      <statement1>\n",
    "      <statement2>\n",
    "      <statement3>\n",
    "          \n",
    "- 리스트(나 반복가능한 변수들)의 모든 원소를 (자동으로 끝까지) 반복한다."
   ]
  },
  {
   "cell_type": "code",
   "execution_count": 11,
   "metadata": {
    "id": "nfCa2WREkInN"
   },
   "outputs": [
    {
     "name": "stdout",
     "output_type": "stream",
     "text": [
      "4\n",
      "3\n",
      "2\n",
      "1\n",
      "[-1, -2, -3, -4]\n"
     ]
    }
   ],
   "source": [
    "# 리스트의 원소를 하나하나 출력하는 반복문을 만든다.\n",
    "L = [1, 2, 3, 4, -1, 'str', (1, 45)]\n",
    "L2 = [-1, -2, -3, -4]\n",
    "for i in L2:\n",
    "    print(i + 5)\n",
    "\n",
    "print(L2)"
   ]
  },
  {
   "cell_type": "markdown",
   "metadata": {
    "id": "5nqRCpEXkInO"
   },
   "source": [
    "#### 6개의 커피 음료가 담긴 리스트가 있다. 카페에 있는 모든 음료를 출력해보자!"
   ]
  },
  {
   "cell_type": "code",
   "execution_count": 14,
   "metadata": {
    "id": "iSuqlRBwkInO"
   },
   "outputs": [
    {
     "name": "stdout",
     "output_type": "stream",
     "text": [
      "아메리카노\n",
      "카페라떼\n",
      "카페모카\n",
      "바닐라라떼\n",
      "핸드드립\n",
      "콜드브루\n"
     ]
    }
   ],
   "source": [
    "coffees = ['아메리카노', '카페라떼', '카페모카', '바닐라라떼', '핸드드립', '콜드브루']\n",
    "for coffee in coffees:\n",
    "    print(coffee)"
   ]
  },
  {
   "cell_type": "markdown",
   "metadata": {
    "id": "mouwfUf0kInO"
   },
   "source": [
    "#### for문의 단짝 range() 함수"
   ]
  },
  {
   "cell_type": "markdown",
   "metadata": {
    "id": "lm_EMsqJkInO"
   },
   "source": [
    "- for문은 특정 횟수동안 반복을 하기 때문에, 횟수를 자동으로 만들어주는 기능이 있으면 좋다.\n",
    "\n",
    "- 파이썬에서 기본적으로 제공하는 range 함수는 특정 숫자 범위내의 값들을 자동으로 생성해주는 함수이다.\n",
    "\n",
    "\n",
    "e.g. range(1, 5)는 1, 2, 3, 4를 차례대로 생성해준다. (5는 범위에서 제외된다. 즉, 마지막 숫자는 제외된다. 1 <= x < 5)"
   ]
  },
  {
   "cell_type": "code",
   "execution_count": 30,
   "metadata": {
    "id": "buAK4mW-kInP"
   },
   "outputs": [
    {
     "data": {
      "text/plain": [
       "[4, 3, 2, 1]"
      ]
     },
     "execution_count": 30,
     "metadata": {},
     "output_type": "execute_result"
    }
   ],
   "source": [
    "# range 함수를 이용해 1부터 4까지 출력하는 프로그램을 작성해보자. for문을 이용해서!\n",
    "# range(stop) == range(0, stop)\n",
    "# range(start, stop) -> start, start+1, ..., stop-1\n",
    "# range(start, stop, step) -> start, start+step, start+step+step, ... stop-1\n",
    "# for i in range(2, 10, 2):\n",
    "#     print(i)\n",
    "\n",
    "for i in range(len(L2)):\n",
    "    L2[i] = L2[i] + 5  # list indexing으로 원소를 update.\n",
    "L2"
   ]
  },
  {
   "cell_type": "markdown",
   "metadata": {
    "id": "FM9yUoBykInP"
   },
   "source": [
    "#### 6개의 커피 음료와 음료의 가격이 담긴 리스트가 있다. 가지고 있는 돈이 5,000원일 때 먹을 수 있는 모든 음료를 찾아보자!"
   ]
  },
  {
   "cell_type": "code",
   "execution_count": 63,
   "metadata": {
    "id": "rgPKn43YkInP"
   },
   "outputs": [
    {
     "name": "stdout",
     "output_type": "stream",
     "text": [
      "아메리카노\n",
      "카페라떼\n",
      "카페모카\n",
      "콜드브루\n",
      "아메리카노\n",
      "카페라떼\n",
      "카페모카\n",
      "콜드브루\n",
      "아메리카노\n",
      "카페라떼\n",
      "카페모카\n",
      "콜드브루\n"
     ]
    }
   ],
   "source": [
    "coffees = ['아메리카노', '카페라떼', '카페모카', '바닐라라떼', '핸드드립', '콜드브루']\n",
    "prices = [4100, 4600, 4600, 5100, 6000, 5000]\n",
    "\n",
    "# 1. indexing을 활용한 방법.\n",
    "for i in range(len(prices)):\n",
    "    if prices[i] <= 5000:\n",
    "        print(coffees[i])\n",
    "\n",
    "# 2. enumerate 함수를 활용한 방법.\n",
    "for i, price in enumerate(prices):\n",
    "    # i, price = i, prices[i]\n",
    "    if price <= 5000:\n",
    "        print(coffees[i])\n",
    "\n",
    "# 3. zip 함수를 활용한 방법.\n",
    "for coffee, price in zip(coffees, prices):\n",
    "    # coffee, price = coffees[i], prices[i]\n",
    "    if price <= 5000:\n",
    "        print(coffee)"
   ]
  },
  {
   "cell_type": "markdown",
   "metadata": {
    "id": "o-lUiJGSkInP"
   },
   "source": [
    "#### RE : 6개의 커피 음료와 음료의 가격이 담긴 리스트가 있다. 오늘은 할인 행사를 하여 모든 음료가 500원 할인 되었다!\n",
    "\n",
    "#### 가지고 있는 돈이 5,000원일 때 먹을 수 있는 모든 음료를 찾아보자!"
   ]
  },
  {
   "cell_type": "code",
   "execution_count": 68,
   "metadata": {
    "id": "eULxqazskInQ"
   },
   "outputs": [
    {
     "name": "stdout",
     "output_type": "stream",
     "text": [
      "아메리카노\n",
      "카페라떼\n",
      "카페모카\n",
      "콜드브루\n"
     ]
    }
   ],
   "source": [
    "coffees = ['아메리카노', '카페라떼', '카페모카', '바닐라라떼', '핸드드립', '콜드브루']\n",
    "prices = [4100, 4600, 4600, 5100, 6000, 5000]\n",
    "discount = 0\n",
    "\n",
    "# for i in range(len(prices)):\n",
    "#     prices[i] = prices[i] - discount\n",
    "\n",
    "for coffee, price in zip(coffees, prices):\n",
    "    if price - discount <= 5000:\n",
    "        print(coffee)"
   ]
  },
  {
   "cell_type": "markdown",
   "metadata": {
    "id": "LRxrNS8GkInR"
   },
   "source": [
    "#### 전설의 구구단 구현. nested loop를 연습해보자!"
   ]
  },
  {
   "cell_type": "code",
   "execution_count": 81,
   "metadata": {
    "id": "1Hw2C_kGkInR"
   },
   "outputs": [
    {
     "name": "stdout",
     "output_type": "stream",
     "text": [
      "\n",
      "<< 2단 >>\n",
      "2 x 1 = 2\t2 x 2 = 4\t2 x 3 = 6\t2 x 4 = 8\t2 x 5 = 10\t2 x 6 = 12\t2 x 7 = 14\t2 x 8 = 16\t2 x 9 = 18\t\n",
      "<< 3단 >>\n",
      "3 x 1 = 3\t3 x 2 = 6\t3 x 3 = 9\t3 x 4 = 12\t3 x 5 = 15\t3 x 6 = 18\t3 x 7 = 21\t3 x 8 = 24\t3 x 9 = 27\t\n",
      "<< 4단 >>\n",
      "4 x 1 = 4\t4 x 2 = 8\t4 x 3 = 12\t4 x 4 = 16\t4 x 5 = 20\t4 x 6 = 24\t4 x 7 = 28\t4 x 8 = 32\t4 x 9 = 36\t\n",
      "<< 5단 >>\n",
      "5 x 1 = 5\t5 x 2 = 10\t5 x 3 = 15\t5 x 4 = 20\t5 x 5 = 25\t5 x 6 = 30\t5 x 7 = 35\t5 x 8 = 40\t5 x 9 = 45\t\n",
      "<< 6단 >>\n",
      "6 x 1 = 6\t6 x 2 = 12\t6 x 3 = 18\t6 x 4 = 24\t6 x 5 = 30\t6 x 6 = 36\t6 x 7 = 42\t6 x 8 = 48\t6 x 9 = 54\t\n",
      "<< 7단 >>\n",
      "7 x 1 = 7\t7 x 2 = 14\t7 x 3 = 21\t7 x 4 = 28\t7 x 5 = 35\t7 x 6 = 42\t7 x 7 = 49\t7 x 8 = 56\t7 x 9 = 63\t\n",
      "<< 8단 >>\n",
      "8 x 1 = 8\t8 x 2 = 16\t8 x 3 = 24\t8 x 4 = 32\t8 x 5 = 40\t8 x 6 = 48\t8 x 7 = 56\t8 x 8 = 64\t8 x 9 = 72\t\n",
      "<< 9단 >>\n",
      "9 x 1 = 9\t9 x 2 = 18\t9 x 3 = 27\t9 x 4 = 36\t9 x 5 = 45\t9 x 6 = 54\t9 x 7 = 63\t9 x 8 = 72\t9 x 9 = 81\t"
     ]
    }
   ],
   "source": [
    "# nested loop를 이용하여 구구단을 구현합시다. \n",
    "# 2단을 for문으로 만들자.\n",
    "for dan in range(2, 10):        # outer loop\n",
    "    print(f'\\n<< {dan}단 >>')\n",
    "    for number in range(1, 10): # inner loop\n",
    "        print(f'{dan} x {number} = {dan*number}', end=\"\\t\")"
   ]
  },
  {
   "cell_type": "code",
   "execution_count": null,
   "metadata": {},
   "outputs": [],
   "source": []
  }
 ],
 "metadata": {
  "colab": {
   "collapsed_sections": [],
   "name": "Chapter.01 파이썬 프로그래밍-08. for, while (실습).ipynb",
   "provenance": []
  },
  "kernelspec": {
   "display_name": "Python 3 (ipykernel)",
   "language": "python",
   "name": "python3"
  },
  "language_info": {
   "codemirror_mode": {
    "name": "ipython",
    "version": 3
   },
   "file_extension": ".py",
   "mimetype": "text/x-python",
   "name": "python",
   "nbconvert_exporter": "python",
   "pygments_lexer": "ipython3",
   "version": "3.11.7"
  }
 },
 "nbformat": 4,
 "nbformat_minor": 1
}
