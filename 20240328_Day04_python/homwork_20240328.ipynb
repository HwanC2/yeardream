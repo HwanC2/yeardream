{
 "cells": [
  {
   "cell_type": "markdown",
   "metadata": {},
   "source": [
    "**[문제 1]**\n",
    "\n",
    "주어진 리스트의 모든 원소의 합계를 구하는 코드를 반복문을 사용하여 만드세요."
   ]
  },
  {
   "cell_type": "code",
   "execution_count": 1,
   "metadata": {},
   "outputs": [
    {
     "name": "stdout",
     "output_type": "stream",
     "text": [
      "합계: 0\n"
     ]
    }
   ],
   "source": [
    "numbers = [1, 2, 3, 4, 5, 6, 7, 8, 9, 10]  # 이 리스트의 합계를 구하세요.\n",
    "total = 0  # 합계를 저장할 변수입니다.\n",
    "\n",
    "# 여기에 반복문을 사용하여 합계를 구하는 코드를 작성하세요.\n",
    "\n",
    "print(\"합계:\", total)"
   ]
  },
  {
   "cell_type": "code",
   "execution_count": 2,
   "metadata": {},
   "outputs": [
    {
     "name": "stdout",
     "output_type": "stream",
     "text": [
      "합계: 55\n"
     ]
    }
   ],
   "source": [
    "numbers = [1, 2, 3, 4, 5, 6, 7, 8, 9, 10]\n",
    "total = 0\n",
    "\n",
    "# numbers 길이 만큼 반복\n",
    "for number in numbers:\n",
    "    # 합계에 값 더하기\n",
    "    total += number\n",
    "\n",
    "# 결과 출력\n",
    "print(\"합계:\", total)\n"
   ]
  },
  {
   "cell_type": "markdown",
   "metadata": {},
   "source": [
    "**[문제 2]**\n",
    "\n",
    "주어진 n에 대해서 n!을 계산하는 코드를 작성하세요.\n",
    "\n",
    "(주의. n이 커지면 계산이 오래 걸리니 너무 큰 n은 테스트하지 마시길 바랍니다.)"
   ]
  },
  {
   "cell_type": "code",
   "execution_count": null,
   "metadata": {},
   "outputs": [],
   "source": [
    "n = 5           # 팩토리얼을 구할 숫자입니다.\n",
    "factorial = 1   # 결과를 저장할 변수입니다.\n",
    "\n",
    "# 여기에 반복문을 사용하여 팩토리얼을 계산하는 코드를 작성하세요.\n",
    "\n",
    "print(f\"{n}! =\", factorial)"
   ]
  },
  {
   "cell_type": "code",
   "execution_count": 4,
   "metadata": {},
   "outputs": [
    {
     "name": "stdout",
     "output_type": "stream",
     "text": [
      "5! = 120\n"
     ]
    }
   ],
   "source": [
    "n = 5               # 팩토리얼을 구할 숫자입니다.\n",
    "factorial = 1       # 결과를 저장할 변수입니다.\n",
    "\n",
    "# 1~5까지 반복\n",
    "for i in range(1, n + 1):\n",
    "    # 곱하기\n",
    "    factorial *= i\n",
    "\n",
    "# 결과 출력\n",
    "print(f\"{n}! =\", factorial)"
   ]
  },
  {
   "cell_type": "markdown",
   "metadata": {},
   "source": [
    "**[문제 3]**\n",
    "\n",
    "다음 리스트에서 3번 연속으로 나타나는 숫자를 찾는 프로그램을 작성하세요.\n",
    "\n",
    "- 예시입력1 : [1, 2, 3, 3, 3, 4, 5, 5, 5, 5, 6, 7, 8, 9, 10]\n",
    "- 예시출력1 : [3, 5]\n",
    "- 예시입력2 :  [1, 1, 1, 1, 2, 2, 3, 3, 3, 4, 5, 6, 7, 7, 7, 8, 10, -1, 101]\n",
    "- 예시출력2 : [1, 3, 7] (1은 중복으로 3번이상 나타나지만, 한번만 출력하면 됩니다)"
   ]
  },
  {
   "cell_type": "code",
   "execution_count": 14,
   "metadata": {},
   "outputs": [
    {
     "name": "stdout",
     "output_type": "stream",
     "text": [
      "[3, 5]\n"
     ]
    }
   ],
   "source": [
    "# 입력한 숫자가 저장될 리스트\n",
    "numbers = list(map(int, input('리스트에 입력할 숫자들을 입력하세요 : ').split()))\n",
    "\n",
    "# 결과를 저장할 빈 리스트\n",
    "result = []\n",
    "\n",
    "# numbers 리스트의 가장 끝 2자리를 제외한 길이만큼 반복\n",
    "for i in range(len(numbers) - 2):\n",
    "    # 현재 숫자와 다음 두 숫자가 같은지 확인\n",
    "    if numbers[i] == numbers[i + 1] == numbers[i + 2]:\n",
    "        # 숫자가 결과 리스트에 아직 없으면 추가\n",
    "        if numbers[i] not in result:\n",
    "                result.append(numbers[i])\n",
    "\n",
    "# 3번 중복되는 숫자 출력\n",
    "print(result)"
   ]
  }
 ],
 "metadata": {
  "kernelspec": {
   "display_name": "base",
   "language": "python",
   "name": "python3"
  },
  "language_info": {
   "codemirror_mode": {
    "name": "ipython",
    "version": 3
   },
   "file_extension": ".py",
   "mimetype": "text/x-python",
   "name": "python",
   "nbconvert_exporter": "python",
   "pygments_lexer": "ipython3",
   "version": "3.12.2"
  }
 },
 "nbformat": 4,
 "nbformat_minor": 2
}
