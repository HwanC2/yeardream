{
 "cells": [
  {
   "cell_type": "markdown",
   "metadata": {},
   "source": [
    "십의 자리 구하기\n",
    "- 숫자 하나를 입력받는다. (단, 입력하는 숫자는 무조건 두 자리 이상의 자연수)\n",
    "- 입력 받은 숫자의 십의 자리 숫자를 출력한다."
   ]
  },
  {
   "cell_type": "code",
   "execution_count": 58,
   "metadata": {},
   "outputs": [
    {
     "name": "stdout",
     "output_type": "stream",
     "text": [
      "53426325의 10의 자리 수 = 2\n"
     ]
    }
   ],
   "source": [
    "num = int(input())  # 입력 받은 숫자\n",
    "ten_num = num       # 10의 자리 수\n",
    "\n",
    "# 1의 자리 수 버리기\n",
    "ten_num = num/10\n",
    "\n",
    "# 한자리 수가 될 때까지 반복\n",
    "while ten_num >= 10 :\n",
    "    # 10으로 나눈 나머지 값을 저장\n",
    "    ten_num = int(ten_num % 10)   \n",
    "\n",
    "# 입력 받은 숫자의 십의 자리 숫자를 출력한다.\n",
    "print(f'{num}의 10의 자리 수 = {ten_num}')\n"
   ]
  },
  {
   "cell_type": "markdown",
   "metadata": {},
   "source": [
    "주어진 문자열들의 뒤 6자리를 ******로 만드는 코드를 작성하세요.\n",
    "- oldman_id = \"911210-1234567\"\n",
    "- oldwoman_id = \"900101-2111111\"\n",
    "- youngman_id = \"200112-3111111\"\n",
    "- youngwoman_id = \"200112-4123987\""
   ]
  },
  {
   "cell_type": "code",
   "execution_count": 76,
   "metadata": {},
   "outputs": [
    {
     "name": "stdout",
     "output_type": "stream",
     "text": [
      "911210-1******\n",
      "900101-2******\n",
      "200112-3******\n",
      "200112-4******\n"
     ]
    }
   ],
   "source": [
    "# 문제4의 코드를 작성하세요. 밑의 4가지중 아무거나 사용하시면 됩니다.\n",
    "oldman_id = \"911210-1234567\"\n",
    "oldwoman_id = \"900101-2111111\"\n",
    "youngman_id = \"200112-3111111\"\n",
    "youngwoman_id = \"200112-4123987\"\n",
    "\n",
    "# 끝 6자리 *로 치환\n",
    "oldman_id = oldman_id.replace(oldman_id[-6:],\"******\")\n",
    "oldwoman_id = oldwoman_id.replace(oldwoman_id[-6:],\"******\")\n",
    "youngman_id = youngman_id.replace(youngman_id[-6:],\"******\")\n",
    "youngwoman_id = youngwoman_id.replace(youngwoman_id[-6:],\"******\")\n",
    "\n",
    "# 출력\n",
    "print(oldman_id)\n",
    "print(oldwoman_id)\n",
    "print(youngman_id)\n",
    "print(youngwoman_id)\n",
    "\n",
    "# 방법 2\n",
    "print(oldman_id[:-6] + \"******\")\n",
    "print(oldwoman_id[:-6] + \"******\")\n",
    "print(youngman_id[:-6] + \"******\")\n",
    "print(youngwoman_id[:-6] + \"******\")"
   ]
  }
 ],
 "metadata": {
  "kernelspec": {
   "display_name": "base",
   "language": "python",
   "name": "python3"
  },
  "language_info": {
   "codemirror_mode": {
    "name": "ipython",
    "version": 3
   },
   "file_extension": ".py",
   "mimetype": "text/x-python",
   "name": "python",
   "nbconvert_exporter": "python",
   "pygments_lexer": "ipython3",
   "version": "3.12.2"
  }
 },
 "nbformat": 4,
 "nbformat_minor": 2
}
