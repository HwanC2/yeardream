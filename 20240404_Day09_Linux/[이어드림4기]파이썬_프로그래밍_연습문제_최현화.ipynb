{
  "cells": [
    {
      "cell_type": "markdown",
      "metadata": {
        "id": "Xn_bPjW10qHz"
      },
      "source": [
        "## Chapter 파이썬 프로그래밍 기초 연습하기 (총 16문제)"
      ]
    },
    {
      "cell_type": "markdown",
      "metadata": {
        "id": "hR5XfHWy0qIi"
      },
      "source": [
        "## 실습 가이드\n",
        "1. 난이도는 매우 쉬운 문제부터 점차 난이도가 있는 문제로 올라갑니다.\n",
        "\n",
        "2. 이번 파트에서 풀게 될 문제들은 \"파이썬 프로그래밍\" 파트에서 배운 내용들을 기준으로 구성 되었습니다.\n",
        "\n",
        "3. 강의에서 배운 것 뿐만 아니라, 구글링하셔서 자유롭게 코딩하셔도 상관없습니다.\n",
        "> 문제 해결에 집중해서 다양한 방법으로 풀어보세요!"
      ]
    },
    {
      "cell_type": "markdown",
      "metadata": {
        "id": "RlsQsuiB0qIm"
      },
      "source": [
        "### <b>학습목표</b>\n",
        "- 1) 파이썬 데이터 타입의 이해\n",
        "- 2) if문의 이해\n",
        "- 3) for, while문의 이해\n",
        "- 4) 함수(def)의 이해\n",
        "- 5) 외부 라이브러리에 대한 이해\n",
        "- 6) 클래스에 대한 이해"
      ]
    },
    {
      "cell_type": "markdown",
      "metadata": {
        "id": "p3cbNzXr0qIn"
      },
      "source": [
        "- 출제자: 김용담 강사"
      ]
    },
    {
      "cell_type": "markdown",
      "metadata": {
        "id": "rHgTqLGDC1fc"
      },
      "source": [
        "### 문제 01. 숫자 계산1 (5점)\n",
        "\n",
        "- 두 개의 숫자 a, b에 원하는 숫자를 넣고 a가 b의 배수인지 확인하는 코드를 작성하세요.\n",
        "\n",
        "- 배수라면, \"a는 b의 배수입니다.\"를 출력하고, 그렇지 않다면 \"a는 b의 배수가 아닙니다.\"를 출력하세요."
      ]
    },
    {
      "cell_type": "code",
      "execution_count": 3,
      "metadata": {
        "id": "WRNQuBERCyDB"
      },
      "outputs": [
        {
          "name": "stdout",
          "output_type": "stream",
          "text": [
            "4는 3의 배수가 아닙니다.\n"
          ]
        }
      ],
      "source": [
        "# 정수 2개 입력(스페이스바 구분)\n",
        "a, b = map(int, input().split())\n",
        "\n",
        "# 나머지 값이 0이면 배수\n",
        "if a % b == 0 :\n",
        "    print(f'{a}는 {b}의 배수 입니다.')\n",
        "# 배수 아님\n",
        "else :\n",
        "    print(f'{a}는 {b}의 배수가 아닙니다.')"
      ]
    },
    {
      "cell_type": "markdown",
      "metadata": {
        "id": "Dy8YLqr5FcEL"
      },
      "source": [
        "### 문제 02. 숫자 계산2 (5점)\n",
        "\n",
        "- 주어진 실수값 f, g, h에 대해서 각 실수값을 소수점 세번째 자리에서 반올림한 값을 출력하는 코드를 작성하세요.\n",
        "\n",
        "- 예를 들어 f, g, h가 각각 3.145, 6.1888, 1.00123라면 결과 출력은 3.15, 6.19, 1.00 입니다."
      ]
    },
    {
      "cell_type": "code",
      "execution_count": 1,
      "metadata": {
        "id": "47GXgKIeFcQp"
      },
      "outputs": [
        {
          "name": "stdout",
          "output_type": "stream",
          "text": [
            "3.145의 소수점 세번째 자리 반올림 값은 3.15 입니다.\n",
            "6.1888의 소수점 세번째 자리 반올림 값은 6.19 입니다.\n",
            "1.00123의 소수점 세번째 자리 반올림 값은 1.00 입니다.\n"
          ]
        }
      ],
      "source": [
        "# 실수 3개 입력(스페이스바 구분)\n",
        "f, g, h = map(float, input().split())\n",
        "\n",
        "# round('숫자', '자릿수')\n",
        "f_result = round(f, 2)  # 3.145   >> 3.15\n",
        "g_result = round(g, 2)  # 6.1888  >> 6.19\n",
        "h_result = round(h, 2)  # 1.00123 >> 1.00\n",
        "\n",
        "# 소수점 두자리 수 결과 출력\n",
        "print(f'{f}의 소수점 세번째 자리 반올림 값은 {f_result:.2f} 입니다.')\n",
        "print(f'{g}의 소수점 세번째 자리 반올림 값은 {g_result:.2f} 입니다.')\n",
        "print(f'{h}의 소수점 세번째 자리 반올림 값은 {h_result:.2f} 입니다.')"
      ]
    },
    {
      "cell_type": "markdown",
      "metadata": {
        "id": "cQzZX0HjDq_1"
      },
      "source": [
        "### 문제 03. 숫자 계산3 (5점)\n",
        "\n",
        "- 리스트로 주어진 수열 2개가 있습니다. 해당 수열들의 중앙값을 출력하는 코드를 작성해보세요.\n",
        "\n",
        "- 중앙값의 정의는 홀수 개의 숫자에 대해서는 크기 순서대로 가장 가운데 있는 값입니다.\n",
        "\n",
        "- 짝수 개의 숫자에 대해서는 크기 순서대로 가장 가운데 있는 두 개의 숫자의 평균입니다.\n",
        "\n",
        "- 예를 들어, [5, 11, 2, 4] 수열이 주어진다면 정답은 4.5입니다.\n",
        "\n",
        "- [1, 3, 4, 5, 100] 수열이 주어진다면 정답은 4입니다."
      ]
    },
    {
      "cell_type": "code",
      "execution_count": 16,
      "metadata": {
        "id": "I6zp_gEoDqfG"
      },
      "outputs": [
        {
          "name": "stdout",
          "output_type": "stream",
          "text": [
            "number1[5, 10, 11, 24, 55, 100] 리스트의 중간 값은 17.5 입니다.]\n",
            "number1[99, 11, 2, 6, 677, 1001, 3] 리스트의 중간 값은 11 입니다.]\n"
          ]
        }
      ],
      "source": [
        "numbers1 = [5, 10, 11, 24, 55, 100]\n",
        "numbers2 = [99, 11, 2, 6, 677, 1001, 3]\n",
        "\n",
        "# 중간값 찾기 메서드\n",
        "def find_mid(num_list:list) :\n",
        "    # 리스트 정렬\n",
        "    num_list = sorted(num_list)\n",
        "\n",
        "    # 리스트 중간 인덱스 찾기\n",
        "    mid_index = len(num_list) // 2\n",
        "\n",
        "    # 리스트 길이 가 짝수인지 체크\n",
        "    if len(num_list) % 2 == 0 :\n",
        "        # 가장 가운데 있는 두개의 숫자의 평균 구하기\n",
        "        mid = (num_list[mid_index-1] + num_list[mid_index]) / 2\n",
        "\n",
        "    # 리스트 길이가 홀수면 가장 중간에 있는 값 찾기\n",
        "    else :\n",
        "        mid = num_list[mid_index]\n",
        "\n",
        "    # 중간 값 반환\n",
        "    return mid\n",
        "\n",
        "# 결과 출력\n",
        "print(f'number1{numbers1} 리스트의 중간 값은 {find_mid(numbers1)} 입니다.]')\n",
        "print(f'number2{numbers2} 리스트의 중간 값은 {find_mid(numbers2)} 입니다.]')\n"
      ]
    },
    {
      "cell_type": "markdown",
      "metadata": {
        "id": "B2MLQ8Ff0qIp"
      },
      "source": [
        "### 문제 04. 윤년 계산하기 (7점)\n",
        "\n",
        "- 사용자 입력을 받은 숫자 N이 있습니다.\n",
        "\n",
        "- 주어진 숫자 N이 윤년인지 아닌지 출력하는 코드를 작성해주세요.\n",
        "> print(\"%d년은 윤년입니다.\" % N) **or**\n",
        "> print(\"%d년은 윤년이 아닙니다.\" % N)\n",
        "\n",
        "- 윤년 규칙은 다음과 같습니다.\n",
        "\n",
        "> 1. 4의 배수일 것\n",
        "> 2. 100의 배수가 아닐 것(이 경우엔 1번 조건을 무시합니다.)\n",
        "> 3. 400의 배수일 것 (이 경우엔 2번 조건을 무시합니다.)\n",
        "\n",
        "- 예를 들어, 2004년은 1번 조건을 만족하므로 윤년입니다.\n",
        "- 2000년은 3번 조건을 만족하므로 윤년입니다.\n",
        "- 2100년은 2번 조건을 만족하므로 윤년이 아닙니다.\n"
      ]
    },
    {
      "cell_type": "code",
      "execution_count": 20,
      "metadata": {
        "id": "yEUiebcx0qIq"
      },
      "outputs": [
        {
          "name": "stdout",
          "output_type": "stream",
          "text": [
            "2100년은 윤년이 아닙니다.\n"
          ]
        }
      ],
      "source": [
        "# 정수 입력\n",
        "N = int(input(\"년도를 입력하세요 : \"))\n",
        "\n",
        "# 윤년 조건 1 : 연도가 4로 나누어 떨어지면서 100의 배수가 아닌 연도\n",
        "if N % 4 == 0 and N % 100 != 0 :\n",
        "    print(f'{N}년은 윤년입니다.')\n",
        "# 윤년 조건 2 : 연도가 400으로 나누어 떨어짐\n",
        "elif N % 400 == 0 :\n",
        "    print(f'{N}년은 윤년입니다.')\n",
        "# 나머지 연도는 윤년이 아님\n",
        "else :\n",
        "    print(f'{N}년은 윤년이 아닙니다.')"
      ]
    },
    {
      "cell_type": "markdown",
      "metadata": {
        "id": "cupV8lpw0qIr"
      },
      "source": [
        "### 문제 05. 평균 계산하기 (5점)\n",
        "\n",
        "- 철수는 5개의 과목에서 주어진 리스트와 같은 성적을 받았습니다.\n",
        "\n",
        "- 철수가 받은 성적의 평균을 계산하는 코드를 작성하세요."
      ]
    },
    {
      "cell_type": "code",
      "execution_count": 142,
      "metadata": {
        "id": "rrtfD32hD-yz"
      },
      "outputs": [
        {
          "name": "stdout",
          "output_type": "stream",
          "text": [
            "[철수 성적] 총합 : 328, 평균 : 65.60\n"
          ]
        }
      ],
      "source": [
        "# 각 성적은 0~100점 사이입니다.\n",
        "grades = [65, 70, 100, 43, 50]\n",
        "\n",
        "total = 0   # 합계\n",
        "\n",
        "# 합계 구하기 방법 1 : for문\n",
        "for grade in grades :\n",
        "    total += grade\n",
        "\n",
        "# 평균 구하기\n",
        "avg = total / len(grades)\n",
        "\n",
        "# 결과 출력\n",
        "print(f'[철수 성적] 총합 : {total}, 평균 : {avg:.2f}')"
      ]
    },
    {
      "cell_type": "code",
      "execution_count": 141,
      "metadata": {},
      "outputs": [
        {
          "name": "stdout",
          "output_type": "stream",
          "text": [
            "[철수 성적] 총합 : 328, 평균 : 65.60\n"
          ]
        }
      ],
      "source": [
        "# 각 성적은 0~100점 사이입니다.\n",
        "grades = [65, 70, 100, 43, 50]\n",
        "\n",
        "# 평균 구하기\n",
        "# 합계 구하기 방법 2 : sum\n",
        "avg = sum(grades) / len(grades)\n",
        "\n",
        "# 결과 출력\n",
        "print(f'[철수 성적] 총합 : {sum(grades)}, 평균 : {avg:.2f}')"
      ]
    },
    {
      "cell_type": "markdown",
      "metadata": {
        "id": "YZMNz6Es0qIs"
      },
      "source": [
        "### 문제 06. 십의 자리 숫자 구하기 (5점)\n",
        "\n",
        "- 사용자 입력을 받는 두 자리 이상 숫자 N에 대해서, 십의 자리 숫자를 출력하는 코드를 작성해보세요.\n",
        "\n",
        "- 예를 들어, 12097509172099019385이 입력으로 들어오면 출력 결과는 8\n",
        "- 80135789164791672903791035719037이 입력으로 들어오면 출력 결과는 3\n",
        "- 34가 입력으로 들어오면 출력 결과는 3"
      ]
    },
    {
      "cell_type": "code",
      "execution_count": 49,
      "metadata": {
        "id": "SWLusfet0qIt"
      },
      "outputs": [
        {
          "name": "stdout",
          "output_type": "stream",
          "text": [
            "80135789164791672903791035719037의 십의 자리 : 3\n"
          ]
        }
      ],
      "source": [
        "# 숫자 입력\n",
        "N = int(input(\"두 자리 이상 숫자를 입력하세요 : \"))\n",
        "\n",
        "# 십의 자리 숫자 구하기\n",
        "ten_number = (N % 100) // 10\n",
        "\n",
        "# 십의 자리 출력\n",
        "print(f'{N}의 십의 자리 : {ten_number}')"
      ]
    },
    {
      "cell_type": "markdown",
      "metadata": {
        "id": "v9PMA9ZOBJSk"
      },
      "source": [
        "### 문제 07. 단어 고치기 (5점)\n",
        "\n",
        "- 영희는 문장을 빠르게 입력하다가, 'w'를 모두 'q'라고 작성해버렸습니다.\n",
        "\n",
        "- 주어진 문장들을 모두 맞게 변경하여 주세요.\n",
        "> 단, 주어진 모든 문장에 사용된 'q'는 'w'가 변경된 것이라고 가정합니다.\n",
        "\n",
        "- 예를 들면, \"I am wuitting this exam.\" -> \"I am quitting this exam.\"\n",
        "- \"This is the wuickest approach I ever seen.\" -> \"Thie is the quickest approach I ever seen.\"\n",
        "- \"The wueen should make wuick decision\" -> \"The queen should make quick decision.\""
      ]
    },
    {
      "cell_type": "code",
      "execution_count": 58,
      "metadata": {
        "id": "LqYtcDqX0qIw"
      },
      "outputs": [
        {
          "name": "stdout",
          "output_type": "stream",
          "text": [
            "\"I am wuitting this exam.\" -> \"I am quitting this exam.\"\n",
            "\"This is wuickest approach I ever seen.\" -> \"This is quickest approach I ever seen.\"\n",
            "\"The wueen should make wuick decision.\" -> \"The queen should make quick decision.\"\n"
          ]
        }
      ],
      "source": [
        "# 문자열 리스트\n",
        "sentences = [\"I am wuitting this exam.\", \"This is wuickest approach I ever seen.\", \"The wueen should make wuick decision.\"]\n",
        "\n",
        "# 바꾼 문자열 저장할 리스트\n",
        "result = []\n",
        "\n",
        "# 리스트 길이만큼 반복하며 문자열 치환\n",
        "for s in sentences :\n",
        "    result.append(s.replace('w','q'))\n",
        "\n",
        "# 결과 출력\n",
        "for i in range(len(result)) :\n",
        "    print(f'\"{sentences[i]}\" -> \"{result[i]}\"')"
      ]
    },
    {
      "cell_type": "markdown",
      "metadata": {
        "id": "GkBEQj9G0qI0"
      },
      "source": [
        "### 문제 08. 단어 개수 파악하기 (7점)\n",
        "\n",
        "- 주어진 문장들에 대해서 몇 개의 단어가 있는지 출력하는 코드를 작성하세요.\n",
        "\n",
        "- 예를 들어, \"I am quitting this exam\"이란 문장은 5개의 단어가 있습니다.\n",
        "\n",
        "- \"This is quickest approach I ever seen.\"이란 문장은 7개의 단어가 있습니다."
      ]
    },
    {
      "cell_type": "code",
      "execution_count": 140,
      "metadata": {
        "id": "HcmHjiQ10qI0"
      },
      "outputs": [
        {
          "name": "stdout",
          "output_type": "stream",
          "text": [
            "\"I am quitting this exam.\"이란 문장은 5개의 단어가 있습니다.\n",
            "\"This is quickest approach I ever seen.\"이란 문장은 7개의 단어가 있습니다.\n",
            "\"The queen should make quick decision.\"이란 문장은 6개의 단어가 있습니다.\n"
          ]
        }
      ],
      "source": [
        "# 문자열 리스트\n",
        "sentences = [\"I am quitting this exam.\", \"This is quickest approach I ever seen.\", \"The queen should make quick decision.\"]\n",
        "\n",
        "# 리스트 길이만큼 반복\n",
        "for s in sentences :\n",
        "    # 단어 개수 구하기\n",
        "    word_len = len(s.split())\n",
        "\n",
        "    # 결과 출력\n",
        "    print(f'\"{s}\"이란 문장은 {word_len}개의 단어가 있습니다.')"
      ]
    },
    {
      "cell_type": "markdown",
      "metadata": {
        "id": "AxBl-tOeAE1o"
      },
      "source": [
        "### 문제 09. 농구부를 뽑아볼까요? (7점)\n",
        " - 허재 감독이 미래의 농구 꿈나무를 선발하여 농구부를 만든다고 합니다.\n",
        " - 주어진 class_A에서 키가 175cm 이상인 친구들을 뽑아서 농구부를 결성한다고 합니다.\n",
        " - basketball_team  이라는 빈 리스트를 작성하여, 농구부가 될 아이들의 이름만 추가하는 코드를 작성해보세요.\n",
        " - 마지막에 basketball_team 을 출력해봅시다."
      ]
    },
    {
      "cell_type": "code",
      "execution_count": 139,
      "metadata": {
        "id": "7B7Er3fJSrl9"
      },
      "outputs": [
        {
          "name": "stdout",
          "output_type": "stream",
          "text": [
            "농구팀 : ['유재석', '서장훈']\n"
          ]
        }
      ],
      "source": [
        "# 딕셔너리로 구성된 지원자 목록\n",
        "class_A = {\"양세형\": 146, \"유세윤\": 160, \"서강준\": 167, \"유재석\": 175.3, \"서장훈\": 207}\n",
        "\n",
        "# 농구팀 리스트\n",
        "basketball_team = []\n",
        "\n",
        "# 지원자 수만큼 반복\n",
        "for name, height in class_A.items() :\n",
        "    # 키가 175cm 이상인지 체크\n",
        "    if height >= 175 :\n",
        "        # 농구팀 리스트에 이름 추가\n",
        "        basketball_team.append(name)\n",
        "\n",
        "# 결과 출력\n",
        "print(f'농구팀 : {basketball_team}')"
      ]
    },
    {
      "cell_type": "markdown",
      "metadata": {
        "id": "RDinWK3kF7Od"
      },
      "source": [
        "### 문제 10. 구구단 가로 출력 (for문) (10점)\n",
        "- 다음처럼 구구단을 가로로 출력해봅시다.\n",
        "    \n",
        "```\n",
        "2x1=2, 3x1=3, ..., 2x9= 18\n",
        "...\n",
        "2x9=19, 3x9=27, ..., 9x9= 81\n",
        "```\n",
        "\n",
        "> HINT\n",
        "- print: end = \"\\t\""
      ]
    },
    {
      "cell_type": "code",
      "execution_count": 138,
      "metadata": {},
      "outputs": [
        {
          "name": "stdout",
          "output_type": "stream",
          "text": [
            "2 x 1 = 2\t3 x 1 = 3\t4 x 1 = 4\t5 x 1 = 5\t6 x 1 = 6\t7 x 1 = 7\t8 x 1 = 8\t9 x 1 = 9\t\n",
            "2 x 2 = 4\t3 x 2 = 6\t4 x 2 = 8\t5 x 2 = 10\t6 x 2 = 12\t7 x 2 = 14\t8 x 2 = 16\t9 x 2 = 18\t\n",
            "2 x 3 = 6\t3 x 3 = 9\t4 x 3 = 12\t5 x 3 = 15\t6 x 3 = 18\t7 x 3 = 21\t8 x 3 = 24\t9 x 3 = 27\t\n",
            "2 x 4 = 8\t3 x 4 = 12\t4 x 4 = 16\t5 x 4 = 20\t6 x 4 = 24\t7 x 4 = 28\t8 x 4 = 32\t9 x 4 = 36\t\n",
            "2 x 5 = 10\t3 x 5 = 15\t4 x 5 = 20\t5 x 5 = 25\t6 x 5 = 30\t7 x 5 = 35\t8 x 5 = 40\t9 x 5 = 45\t\n",
            "2 x 6 = 12\t3 x 6 = 18\t4 x 6 = 24\t5 x 6 = 30\t6 x 6 = 36\t7 x 6 = 42\t8 x 6 = 48\t9 x 6 = 54\t\n",
            "2 x 7 = 14\t3 x 7 = 21\t4 x 7 = 28\t5 x 7 = 35\t6 x 7 = 42\t7 x 7 = 49\t8 x 7 = 56\t9 x 7 = 63\t\n",
            "2 x 8 = 16\t3 x 8 = 24\t4 x 8 = 32\t5 x 8 = 40\t6 x 8 = 48\t7 x 8 = 56\t8 x 8 = 64\t9 x 8 = 72\t\n",
            "2 x 9 = 18\t3 x 9 = 27\t4 x 9 = 36\t5 x 9 = 45\t6 x 9 = 54\t7 x 9 = 63\t8 x 9 = 72\t9 x 9 = 81\t\n"
          ]
        }
      ],
      "source": [
        "# 구구단 곱해지는 숫자 1~9\n",
        "for num in range(1, 10) :\n",
        "    # 구구단 2~9단\n",
        "    for dan in range(2, 10) :\n",
        "        # 결과 출력\n",
        "        print(f'{dan} x {num} = {dan * num}', end='\\t')\n",
        "    print() # 공백(엔터)"
      ]
    },
    {
      "cell_type": "markdown",
      "metadata": {
        "id": "iQyPWPbFN5rk"
      },
      "source": [
        "### 문제 11. 로또 번호 6개를 담을 빈 리스트를 'lotto_numbers'라는 변수에 선언하고, 1 ~ 45 까지의 임의로 나오는 숫자 1개를 이 리스트에 추가해볼까요? (5점)\n",
        "> HINT : import random"
      ]
    },
    {
      "cell_type": "code",
      "execution_count": 3,
      "metadata": {
        "id": "PgDkSY9ON5FR"
      },
      "outputs": [
        {
          "name": "stdout",
          "output_type": "stream",
          "text": [
            "[28]\n"
          ]
        }
      ],
      "source": [
        "import random\n",
        "\n",
        "# 로또 번호가 저장될 리스트\n",
        "lotto_numbers = []\n",
        "\n",
        "# 1~45 사이의 랜덤 정수\n",
        "lotto_num = random.randint(1, 45)\n",
        "\n",
        "# 로또 번호 리스트에 추가\n",
        "lotto_numbers.append(lotto_num)\n",
        "\n",
        "# 결과 출력\n",
        "print(lotto_numbers)"
      ]
    },
    {
      "cell_type": "markdown",
      "metadata": {
        "id": "jX1VKUU7Q7W0"
      },
      "source": [
        "### 문제 12. if 조건문으로 lotto_numbers에 lotto_num을 중복없이 추가하는 코드를 작성해봅시다. (7점)\n",
        "\n",
        "- 문제 11에서 임의로 숫자를 추출하다보면, 숫자가 중복되어 추출될 수 있습니다. 로또에는 숫자가 중복될 수 없기 때문입니다.\n",
        "\n",
        "> HINT: not in"
      ]
    },
    {
      "cell_type": "code",
      "execution_count": 7,
      "metadata": {
        "id": "Xk15ueweg48f"
      },
      "outputs": [
        {
          "name": "stdout",
          "output_type": "stream",
          "text": [
            "[34, 16]\n"
          ]
        }
      ],
      "source": [
        "import random\n",
        "\n",
        "# 임의 번호 1개가 저장되어 있는 로또 번호 리스트\n",
        "lotto_numbers = [34]\n",
        "\n",
        "# 1~45 사이의 랜덤 정수 생성\n",
        "lotto_num = random.randint(1, 45)\n",
        "\n",
        "# 로또 번호 리스트에 없는 숫자라면 \n",
        "if lotto_num not in lotto_numbers :\n",
        "    # 뽑은 번호를 리스트에 추가\n",
        "    lotto_numbers.append(lotto_num)\n",
        "\n",
        "# 결과 출력\n",
        "print(lotto_numbers)"
      ]
    },
    {
      "cell_type": "markdown",
      "metadata": {
        "id": "a0bmlmpFUMt_"
      },
      "source": [
        "### 문제 13. 로또 번호 6개를 뽑아보는 코드를 작성해봅시다. 단, 중복이 포함되어 있으면 안됩니다. (7점)\n"
      ]
    },
    {
      "cell_type": "code",
      "execution_count": 136,
      "metadata": {
        "id": "HlsFDHwViJUL"
      },
      "outputs": [
        {
          "name": "stdout",
          "output_type": "stream",
          "text": [
            "로또 번호 : [9, 6, 36, 39, 13, 32]\n"
          ]
        }
      ],
      "source": [
        "import random\n",
        "\n",
        "# 로또 번호가 저장될 리스트\n",
        "lotto_numbers = []\n",
        "\n",
        "# 로또 번호 6개 뽑기\n",
        "for i in range(6) :\n",
        "    # 1~45 사이의 랜덤 정수\n",
        "    lotto_num = random.randint(1, 45)\n",
        "\n",
        "    # 로또 번호 리스트에 없는 숫자라면 \n",
        "    if lotto_num not in lotto_numbers :\n",
        "        # 뽑은 번호를 리스트에 추가\n",
        "        lotto_numbers.append(lotto_num)\n",
        "\n",
        "# 보기 좋게 정렬\n",
        "#lotto_numbers = sorted(lotto_numbers)\n",
        "\n",
        "# 결과 출력\n",
        "print(f'로또 번호 : {lotto_numbers}')"
      ]
    },
    {
      "cell_type": "markdown",
      "metadata": {
        "id": "1GAR9T9Qc8w3"
      },
      "source": [
        "### 문제 14. 이번에는 lotto_generator() 라는 함수로 만들어볼까요? (7점)\n",
        "- 매번 3~4줄의 코드를 작성하는 것보다, 함수로 구현해놓고, 원할 때마다 함수를 실행해서 로또 번호 6개가 나오게끔 하면 훨씬 편하지 않을까요?\n"
      ]
    },
    {
      "cell_type": "code",
      "execution_count": 131,
      "metadata": {
        "id": "iYbvxSYmcgCB"
      },
      "outputs": [
        {
          "name": "stdout",
          "output_type": "stream",
          "text": [
            "로또 번호 : [12, 43, 37, 25, 36, 13]\n"
          ]
        }
      ],
      "source": [
        "import random\n",
        "\n",
        "# 로또 번호 생성 메서드\n",
        "def lotto_generator():\n",
        "    '''\n",
        "    lotto_generator 함수를 실행하면 랜덤으로 뽑은 1 ~ 45 사이의 숫자 6개가 중복없이 뽑혀야 합니다.\n",
        "    '''\n",
        "    # 로또 번호가 저장될 리스트\n",
        "    numbers = []\n",
        "\n",
        "    # 로또 번호 6개 뽑기\n",
        "    for i in range(6) :\n",
        "        # 1~45 사이의 랜덤 정수\n",
        "        num = random.randint(1, 45)\n",
        "\n",
        "        # 로또 번호 리스트에 없는 숫자라면 \n",
        "        if num not in numbers :\n",
        "            # 뽑은 번호를 리스트에 추가\n",
        "            numbers.append(num)\n",
        "\n",
        "    return numbers\n",
        "\n",
        "# 로또 번호 생성\n",
        "lotto_numbers = lotto_generator()\n",
        "\n",
        "# 결과 출력\n",
        "print(f'로또 번호 : {lotto_numbers}')"
      ]
    },
    {
      "cell_type": "markdown",
      "metadata": {
        "id": "-FcwwPdhgCh5"
      },
      "source": [
        "### 문제 15. 음식 주문 시스템 만들기 (13점)\n",
        "\n",
        "이 시스템은 메뉴를 관리하고, 주문을 받아 처리하는 기능을 가집니다. 여기서는 메뉴 클래스(Menu), 주문 클래스(Order), 그리고 주문 관리 클래스(OrderManager)를 구현합니다.\n",
        "\n",
        "1. **Menu 클래스**: 음식 이름과 가격을 관리합니다.\n",
        "2. **Order 클래스**: 특정 메뉴 항목에 대한 주문을 담습니다. 주문 번호와 주문한 메뉴 항목의 리스트를 포함합니다.\n",
        "3. **OrderManager 클래스**: 모든 주문을 관리합니다. 새 주문을 추가하고, 모든 주문을 보여주는 기능을 가집니다.\n",
        "\n",
        "위의 3가지를 기능을 아래 템플릿에 맞춰서 클래스로 구현해보세요.\n",
        "클래스 구현이 완료되면, 아래 실행 예시가 올바르게 실행되어야 합니다!"
      ]
    },
    {
      "cell_type": "code",
      "execution_count": 129,
      "metadata": {
        "id": "6rWsHytBp-ob"
      },
      "outputs": [
        {
          "name": "stdout",
          "output_type": "stream",
          "text": [
            "Order ID : 1\n",
            "Items Ordered : \n",
            "Pizza : $10\n",
            "Salad : $5\n",
            "\n",
            "Order ID : 2\n",
            "Items Ordered : \n",
            "Pasta : $8\n",
            "\n"
          ]
        }
      ],
      "source": [
        "### 1. Menu 클래스\n",
        "class Menu:\n",
        "    # 메뉴 클래스 생성자(메뉴(음식이름), 가격)\n",
        "    def __init__(self, menu, price):\n",
        "        self.menu = menu    # 메뉴(음식 이름)\n",
        "        self.price = price  # 가격\n",
        "\n",
        "### 2. Order 클래스\n",
        "class Order:\n",
        "    # 주문 클래스 생성자\n",
        "    def __init__(self):\n",
        "        self.order_id = 0   # 주문 번호\n",
        "        self.menu_list = [] # 주문한 메뉴 리스트\n",
        "\n",
        "    # 메뉴 추가 메서드(메뉴(음식이름))\n",
        "    def add_item(self, menu):\n",
        "        # 메뉴 리스트에 메뉴 추가\n",
        "        self.menu_list.append(menu)\n",
        "\n",
        "### 3. OrderManager 클래스\n",
        "class OrderManager():\n",
        "    # 주문 매니저 클래스 생성자\n",
        "    def __init__(self) :\n",
        "        self.order_num = 1  # 주문 시작 넘버\n",
        "        self.order_list = []# 주문 목록 리스트\n",
        "\n",
        "    # 새 주문서 생성 메서드\n",
        "    def new_order(self):\n",
        "        # 새 주문 생성\n",
        "        order = Order()\n",
        "\n",
        "        # 주문 번호 넣기\n",
        "        order.order_id = self.order_num\n",
        "\n",
        "        # 다음 주문을 위해 주문 번호 +1\n",
        "        self.order_num += 1\n",
        "\n",
        "        # 주문 목록 리스트에 추가\n",
        "        self.order_list.append(order)\n",
        "\n",
        "        # 주문서 반환\n",
        "        return order\n",
        "\n",
        "    # 모든 주문 목록 출력\n",
        "    def show_all_orders(self):\n",
        "        # 주문서 목록의 길이만큼 반복\n",
        "        for order in self.order_list :\n",
        "            # 주문 번호 출력\n",
        "            print(f'Order ID : {order.order_id}')\n",
        "            print('Items Ordered : ')\n",
        "            \n",
        "            # 메뉴 목록의 길이 만큼 반복\n",
        "            for menu in order.menu_list :\n",
        "                # 메뉴 이름과 가격 출력\n",
        "                print(f'{menu.menu} : ${menu.price}')\n",
        "            \n",
        "            # 주문 번호 마다 구분하기 위한 공백\n",
        "            print()\n",
        "\n",
        "### 사용 예\n",
        "# 메뉴 항목 생성\n",
        "pizza = Menu(\"Pizza\", 10)\n",
        "pasta = Menu(\"Pasta\", 8)\n",
        "salad = Menu(\"Salad\", 5)\n",
        "\n",
        "# 주문 관리자 생성\n",
        "order_manager = OrderManager()\n",
        "\n",
        "# 새 주문 생성\n",
        "order1 = order_manager.new_order()\n",
        "order1.add_item(pizza)\n",
        "order1.add_item(salad)\n",
        "\n",
        "# 또 다른 주문 생성\n",
        "order2 = order_manager.new_order()\n",
        "order2.add_item(pasta)\n",
        "\n",
        "# 모든 주문 보기\n",
        "order_manager.show_all_orders()\n",
        "\n",
        "\n",
        "## 아래는 show_all_orders 실행결과\n",
        "# Order ID: 1\n",
        "# Items Ordered:\n",
        "# Pizza: $10\n",
        "# Salad: $5\n",
        "\n",
        "# Order ID: 2\n",
        "# Items Ordered:\n",
        "# Pasta: $8"
      ]
    },
    {
      "cell_type": "markdown",
      "metadata": {
        "id": "fMy604g-jRLV"
      },
      "source": [
        "### [BONUS] 문제16. 학교 관리 시스템 (20점)\n",
        "\n",
        "학교에는 여러 학생들이 있고, 각 학생은 다양한 과목의 성적을 가집니다. 학교 관리 시스템을 구축하여 학생들의 정보를 관리하고, 특정 기준에 따라 우수 학생을 선별할 수 있는 프로그램을 작성하세요.\n",
        "\n",
        "#### 요구 사항:\n",
        "\n",
        "1. **Student 클래스**를 생성합니다. 이 클래스는 학생의 이름, 학번, 그리고 성적(과목명과 점수의 딕셔너리)을 속성으로 가집니다.\n",
        "2. **School 클래스**를 생성합니다. 이 클래스는 학생 객체의 리스트를 관리하며, 학생을 추가하고, 전체 학생 정보를 출력하는 메서드를 포함해야 합니다.\n",
        "3. School 클래스에는 평균 점수가 특정 기준 이상인 학생들만을 선별하여 그 목록을 반환하는 메서드도 포함시킵니다. 이 메서드는 평균 점수 기준값을 매개변수로 받습니다.\n",
        "\n",
        "아래 템플릿 코드를 사용하여, 출력 예시가 올바르게 나오도록 코드를 완성해보세요!"
      ]
    },
    {
      "cell_type": "code",
      "execution_count": 128,
      "metadata": {
        "id": "a3hnTuNkgewP"
      },
      "outputs": [
        {
          "name": "stdout",
          "output_type": "stream",
          "text": [
            "[전체 학생 리스트]\n",
            "김용담 (A01), 평균 점수 : 81.67\n",
            "이홍주 (A02), 평균 점수 : 82.00\n",
            "이희상 (A03), 평균 점수 : 88.33\n",
            "김영주 (A04), 평균 점수 : 87.33\n",
            "\n",
            "=================================================================\n",
            "\n",
            "평균 점수 85점 이상 학생:\n",
            "이희상 (A03), 평균 점수 : 88.33\n",
            "김영주 (A04), 평균 점수 : 87.33\n"
          ]
        }
      ],
      "source": [
        "# 템플릿 코드\n",
        "class Student:\n",
        "    # 학생 생성자(이름, 학번, 성적)\n",
        "    def __init__(self, name, student_num, grades):\n",
        "        self.name = name                # 이름\n",
        "        self.student_num = student_num  # 학번\n",
        "        self.grades = grades            # 성적\n",
        "\n",
        "    # 평균 계산기 메서드\n",
        "    def calculate_average(self):\n",
        "        # 평균 = 총합 / 과목 수\n",
        "        self.avg = sum(self.grades.values()) / len(self.grades)\n",
        "        \n",
        "        # 학생 평균 반환\n",
        "        return self.avg\n",
        "\n",
        "\n",
        "class School:\n",
        "    # 학교 클래스 생성자\n",
        "    def __init__(self):\n",
        "        self.student_list = []  # 전체 학생 목록\n",
        "        self.top_studednts = [] # 성적 높은 학생 목록\n",
        "\n",
        "    # 학생 추가(학생)\n",
        "    def add_student(self,student):\n",
        "        # 전체 학생 목록에 학생 추가\n",
        "        self.student_list.append(student)\n",
        "\n",
        "    # 전체 학생 목록 출력\n",
        "    def print_students(self):\n",
        "        # 전체 학생 수만큼 반복\n",
        "        for student in self.student_list :\n",
        "            # 학생 평균 계산\n",
        "            avg = student.calculate_average()\n",
        "\n",
        "            # 이름, 학번, 평균 점수\n",
        "            print(f'{student.name} ({student.student_num}), 평균 점수 : {avg:.2f}')\n",
        "\n",
        "    # 높은 성적의 학생 분별 메서드\n",
        "    def get_top_students(self, score):\n",
        "        # 전체 학생 수만큼 반복\n",
        "        for student in self.student_list :\n",
        "            # 학생 평균 계산\n",
        "            avg = student.calculate_average()\n",
        "\n",
        "            # 학생의 평균 점수가 제시된 점수 이상인지 체크\n",
        "            if avg >= score :\n",
        "                # 상위 학생 목록에 해당 학생 추가\n",
        "                self.top_studednts.append(student)\n",
        "\n",
        "        # 상위 학생 목록 반환\n",
        "        return self.top_studednts\n",
        "\n",
        "# 예제 사용\n",
        "school = School()\n",
        "school.add_student(Student(\"김용담\", \"A01\", {\"수학\": 100, \"과학\": 95, \"영어\" : 50}))\n",
        "school.add_student(Student(\"이홍주\", \"A02\", {\"수학\": 85, \"과학\": 95, \"영어\" : 66}))\n",
        "school.add_student(Student(\"이희상\", \"A03\", {\"수학\": 77, \"과학\": 88, \"영어\" : 100}))\n",
        "school.add_student(Student(\"김영주\", \"A04\", {\"수학\": 92, \"과학\": 100, \"영어\" : 70}))\n",
        "\n",
        "# 전체 학생 목록 출력\n",
        "print(\"[전체 학생 리스트]\")\n",
        "school.print_students()\n",
        "print(\"\\n=================================================================\")\n",
        "\n",
        "# 상위 성적 학생 목록\n",
        "top_students = school.get_top_students(85)\n",
        "\n",
        "# 상위 성적 학생 출력\n",
        "print(\"\\n평균 점수 85점 이상 학생:\")\n",
        "\n",
        "# 상위 성적 학생 수만큼 반복\n",
        "for student in top_students:\n",
        "    # 학생 이름, 학번, 평균성적 출력\n",
        "    print(f'{student.name} ({student.student_num}), 평균 점수 : {student.avg:.2f}')\n",
        "\n",
        "## 출력 결과\n",
        "# 이희상 (A03), 평균 점수: 88.33\n",
        "# 김영주 (A04), 평균 점수: 87.33"
      ]
    }
  ],
  "metadata": {
    "colab": {
      "provenance": []
    },
    "kernelspec": {
      "display_name": "Python 3",
      "language": "python",
      "name": "python3"
    },
    "language_info": {
      "codemirror_mode": {
        "name": "ipython",
        "version": 3
      },
      "file_extension": ".py",
      "mimetype": "text/x-python",
      "name": "python",
      "nbconvert_exporter": "python",
      "pygments_lexer": "ipython3",
      "version": "3.12.2"
    },
    "toc": {
      "base_numbering": 1,
      "nav_menu": {},
      "number_sections": true,
      "sideBar": true,
      "skip_h1_title": false,
      "title_cell": "Table of Contents",
      "title_sidebar": "Contents",
      "toc_cell": false,
      "toc_position": {},
      "toc_section_display": true,
      "toc_window_display": false
    }
  },
  "nbformat": 4,
  "nbformat_minor": 0
}
