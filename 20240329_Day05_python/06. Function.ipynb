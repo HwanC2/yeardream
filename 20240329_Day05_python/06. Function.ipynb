{
 "cells": [
  {
   "cell_type": "markdown",
   "metadata": {
    "id": "asH4-Ll7yF0P"
   },
   "source": [
    "## Function이란?\n",
    "\n",
    "**수학적인 의미의 함수와 개념은 비슷하지만 역할이 다르다.**\n",
    "\n",
    "\n",
    "- input이 들어와서 output이 정해진 규칙에 따라 나온다는 개념은 같지만, 프로그램에서의 하나의 함수는 **하나의 기능**을 나타낸다.\n",
    "\n",
    "\n",
    "- 정확하게 함수는 특정 기능을 구현한 **코드 묶음**이다.\n",
    "\n",
    "\n",
    "- def 함수이름(param1, param2, ... ):\n",
    "        <statement1>\n",
    "        <statement2>\n",
    "      return\n",
    "\n",
    "\n",
    "- 함수를 쓰는 이유는 **재사용성** 때문이다."
   ]
  },
  {
   "cell_type": "markdown",
   "metadata": {
    "id": "sh1ZNG2GyF0P"
   },
   "source": [
    "> 함수를 사용하는 가장 중요한 이유는 재사용성 때문이다. Reusability라고 하며, ***똑같은 구조의 코드가 반복되는 것을 피하기 위해 사용***된다. 똑같은 구조의 코드는 보통 한 가지의 기능 단위로 묶이게 되며, 이 기능 단위를 코드로 묶어서 함수로 만든다."
   ]
  },
  {
   "cell_type": "markdown",
   "metadata": {
    "id": "8fPSbSXzyF0Q"
   },
   "source": [
    "## Python Function Definition"
   ]
  },
  {
   "cell_type": "code",
   "execution_count": 1,
   "metadata": {
    "id": "tB-3gkTGyF0Q"
   },
   "outputs": [
    {
     "data": {
      "text/plain": [
       "'ab'"
      ]
     },
     "execution_count": 1,
     "metadata": {},
     "output_type": "execute_result"
    }
   ],
   "source": [
    "# user-defined function\n",
    "# function definition\n",
    "def add(a :int, b :int) -> int :\n",
    "    '''\n",
    "    (docstring)\n",
    "    a, b : integer\n",
    "    return : a, b를 입력받아서 더한 값\n",
    "    '''\n",
    "    c = a + b\n",
    "    return c\n",
    "\n",
    "# function call\n",
    "add('a', 'b')"
   ]
  },
  {
   "cell_type": "markdown",
   "metadata": {
    "id": "gY3l8oWLyF0R"
   },
   "source": [
    "- 정확한 용어 구분은 중요하지만, 보통은 parameter라고 총칭한다. 크게 중요하진 않다."
   ]
  },
  {
   "cell_type": "markdown",
   "metadata": {
    "id": "8yTnxs3ByF0R"
   },
   "source": [
    "#### 기억해야 할 것은, input --- (Function) ----> output 의 구조이며, 이 때 어떤 input parameter가 들어가서, 어떤 output parameter가 나오는지 주목해야한다."
   ]
  },
  {
   "cell_type": "markdown",
   "metadata": {
    "id": "cMW-5h7OyF0R"
   },
   "source": [
    "#### 연습삼아, 사칙연산을 모두 함수로 만들어보자."
   ]
  },
  {
   "cell_type": "code",
   "execution_count": null,
   "metadata": {
    "id": "BGO2MfZbyF0S"
   },
   "outputs": [],
   "source": [
    "def div(a, b):  ## function definition\n",
    "    if b == 0 :\n",
    "        print(\"0으로 나누면 안됩니다.\")\n",
    "    else :\n",
    "        return a / b\n",
    "def div(a, b) :\n",
    "    try :\n",
    "        return a / b\n",
    "    except :\n",
    "        print(\"0으로 나누면 안됩니다.\")\n",
    "\n",
    "div(9, 3) ## function call\n",
    "div(11, 2)\n",
    "div(0, 8)\n",
    "div(8, 0)"
   ]
  },
  {
   "cell_type": "markdown",
   "metadata": {
    "id": "e1-9IBVW4k65"
   },
   "source": [
    "### 함수 정의의 다양한 형태를 연습해보자!"
   ]
  },
  {
   "cell_type": "markdown",
   "metadata": {
    "id": "Qz8sWqk94su9"
   },
   "source": [
    "#### 1. 가장 흔하게 사용되는 경우 -> 함수 parameter와 return이 모두 존재하는 경우."
   ]
  },
  {
   "cell_type": "code",
   "execution_count": null,
   "metadata": {
    "id": "lD9J7z5H4g9C"
   },
   "outputs": [],
   "source": [
    "def x(a, b):\n",
    "    return a + b"
   ]
  },
  {
   "cell_type": "markdown",
   "metadata": {
    "id": "m9OcUVVw41z_"
   },
   "source": [
    "#### 2. 함수 parameter는 없고 return이 존재하는 경우."
   ]
  },
  {
   "cell_type": "code",
   "execution_count": null,
   "metadata": {
    "id": "iXFA9fXX465J"
   },
   "outputs": [],
   "source": [
    "def x():\n",
    "    return \"Hi\""
   ]
  },
  {
   "cell_type": "markdown",
   "metadata": {
    "id": "6qJLyvYx46gF"
   },
   "source": [
    "#### 3. 함수 parameter는 있는데 return이 없는 경우."
   ]
  },
  {
   "cell_type": "code",
   "execution_count": null,
   "metadata": {
    "id": "64MV2yDF4-jA"
   },
   "outputs": [],
   "source": [
    "def x(a):\n",
    "    a = a + 1"
   ]
  },
  {
   "cell_type": "markdown",
   "metadata": {
    "id": "aaePVAX_4_Ku"
   },
   "source": [
    "#### 4. 함수 parameter도 없고 return도 없는 경우."
   ]
  },
  {
   "cell_type": "code",
   "execution_count": null,
   "metadata": {
    "id": "vyihU5Zw5CJL"
   },
   "outputs": [],
   "source": [
    "def x():\n",
    "    print(\"Hello World\")\n",
    "    \n",
    "x()"
   ]
  },
  {
   "cell_type": "markdown",
   "metadata": {
    "id": "lqCawSAlyF0S"
   },
   "source": [
    "#### Q. 만약에 함수의 입력 parameter의 개수를 모를땐 어떻게 해야할까?"
   ]
  },
  {
   "cell_type": "code",
   "execution_count": 8,
   "metadata": {
    "id": "yFsI7D5fyF0S"
   },
   "outputs": [
    {
     "data": {
      "text/plain": [
       "3"
      ]
     },
     "execution_count": 8,
     "metadata": {},
     "output_type": "execute_result"
    }
   ],
   "source": [
    "# *(asterisk)를 앞에 붙이는 것으로 여러개의 parameter를 받아서 tuple로 변환하여 준다.   \n",
    "# 파라미터로 입력받은 모든 숫자를 더해서 return 해주는 함수.\n",
    "def add_many(*args): # args = arguments\n",
    "    total = 0\n",
    "\n",
    "    for arg in args :\n",
    "        total += arg\n",
    "\n",
    "    return total\n",
    "\n",
    "add_many(1, 2, 3, 4, 5)\n",
    "add_many(1, 2, 3, 4)\n",
    "add_many(1, 2, 3)\n",
    "add_many(1, 2)"
   ]
  },
  {
   "cell_type": "markdown",
   "metadata": {
    "id": "h7Z72wjwyF0T"
   },
   "source": [
    "#### Q. 코드를 작성할 때, 언제 이 부분은 함수로 구현해야겠다 라고 판단할 수 있을까?\n",
    "\n",
    "***A. 똑같은 코드가 2번 이상 반복될 때.***"
   ]
  },
  {
   "cell_type": "markdown",
   "metadata": {
    "id": "_IreDkFq8Qmm"
   },
   "source": [
    "### 파라미터에 대해 조금 더 알아봅시다!\n",
    "\n",
    "- 함수에서 사용되는 변수들에게는 효력 범위와 수명이 있습니다."
   ]
  },
  {
   "cell_type": "markdown",
   "metadata": {
    "id": "w9x7d_Ka8T13"
   },
   "source": [
    "Q. 만약에 함수의 파라미터 변수 이름과, 함수를 호출하는 argument의 이름이 같은 경우에 어떻게 될까?\n",
    "\n",
    "\n",
    "- 파이썬에서는 함수의 파라미터로, int/float/str/tuple(immutable data type)이 넘어가는 경우에는 내부에서 해당 변수를 수정해도 바뀌지 않습니다.\n",
    "\n",
    "- 파이썬에서는 함수의 파라미터로, list/dict/set(mutable data type)이 넘어가는 경우에는 내부에서 해당 변수가 바뀝니다."
   ]
  },
  {
   "cell_type": "code",
   "execution_count": 9,
   "metadata": {
    "id": "UwgEw1Bd8ljQ"
   },
   "outputs": [
    {
     "name": "stdout",
     "output_type": "stream",
     "text": [
      "1. Kim\n",
      "5. Kim\n",
      "2. Kim\n",
      "3. Lee\n",
      "6. Kim\n",
      "2. Kim\n",
      "3. Lee\n",
      "7. Kim\n"
     ]
    }
   ],
   "source": [
    "# (variable)scope, lifetime\n",
    "## global variable (no identation)\n",
    "# 1. scope : file 전체 \n",
    "# 2. lifetime : 코드를 완전히 종료할 때까지\n",
    "\n",
    "name = \"Kim\"\n",
    "print(f\"1. {name}\")\n",
    "\n",
    "def change_name(name):  # parameter passing\n",
    "    # local variable\n",
    "    print(f\"2. {name}\")\n",
    "    name = 'Lee'\n",
    "    print(f\"3. {name}\")\n",
    "    return name\n",
    "    print(f\"4. {name}\")\n",
    "\n",
    "# global variable\n",
    "print(f\"5. {name}\")\n",
    "change_name(name)\n",
    "print(f\"6. {name}\")\n",
    "change_name(name)\n",
    "print(f\"7. {name}\")"
   ]
  },
  {
   "cell_type": "code",
   "execution_count": null,
   "metadata": {},
   "outputs": [],
   "source": [
    "def change_list(L):\n",
    "    # local variable\n",
    "    print(f\"2. {L}\")\n",
    "    L[0] = 4\n",
    "    L.pop()\n",
    "    print(f\"3. {L}\")\n",
    "\n",
    "# global variable\n",
    "L = [1, 2, 3]\n",
    "print(f\"1. {L}\")\n",
    "change_list(L)\n",
    "print(f\"4. {L}\")"
   ]
  },
  {
   "cell_type": "markdown",
   "metadata": {
    "id": "3Zv4U8eX6TcF"
   },
   "source": [
    "### Lambda 함수를 사용해보자!\n",
    "> Lambda Expression\n",
    "\n",
    "\n",
    "- 굉장히 간단한 함수가 있는 경우, 한 줄짜리 함수로 간편하게 사용할 수 있다.\n",
    "\n",
    "- 이런 함수를 Lambda 함수라고 하며, lambda 함수와 반복문을 통해 함수의 정의없이 다양한 프로그래밍이 가능하다."
   ]
  },
  {
   "cell_type": "code",
   "execution_count": 10,
   "metadata": {
    "id": "FmRItf0AyF0T"
   },
   "outputs": [
    {
     "name": "stdout",
     "output_type": "stream",
     "text": [
      "8\n",
      "8\n"
     ]
    }
   ],
   "source": [
    "def add(a, b):\n",
    "    return a+b\n",
    "\n",
    "# lambda function, lambda expression, inline function\n",
    "# lambda 함수로 바꾸면?\n",
    "f = lambda a,b : a+b\n",
    "\n",
    "print(add(3, 5))\n",
    "print(f(3, 5))"
   ]
  },
  {
   "cell_type": "code",
   "execution_count": 15,
   "metadata": {},
   "outputs": [
    {
     "name": "stdout",
     "output_type": "stream",
     "text": [
      "[1, 2, 3, 4, 5]\n",
      "[1, 4, 8, 10, 11, 14]\n",
      "[100, -11, 3, 3.5, 6, 7.7, 7]\n",
      "3\n",
      "[8, 10]\n",
      "6\n",
      "[1, 2, 3, 4, 5]\n",
      "[1, 4, 8, 10, 11, 14]\n",
      "[100, -11, 3, 3.5, 6, 7.7, 7]\n"
     ]
    }
   ],
   "source": [
    "## find_median() 함수 작성.\n",
    "# 1) 원본 리스트를 변환하면 안됨.\n",
    "# 2) 중앙값의 정의가 2가지인데, 두 가지를 모두 테스트.\n",
    "# 2-1) 개수가 홀수일 때, 한가운데 값이 중앙값.\n",
    "# e.g. [1, 2, 3, 5, 7] --> 3\n",
    "# 2-2) 개수가 짝수일 때는 한가운데 2개의 값의 평균이 중앙값.\n",
    "# e.g. [1, 2, 4, 5, 6, 8] --> 4.5\n",
    "\n",
    "L = [1, 2, 3, 4, 5]\n",
    "L2 = [1, 4, 8, 10, 11, 14]\n",
    "L3 = [100, -11, 3, 3.5, 6, 7.7, 7]\n",
    "\n",
    "# 중간값 찾기\n",
    "def find_median(L :list) -> int|float:\n",
    "    '''\n",
    "    L : median을 찾을 숫자들이 들어있는 리스트.\n",
    "    return : median은 L에서 찾은 중앙값.\n",
    "    '''\n",
    "    # 리스트 정렬\n",
    "    L = sorted(L)\n",
    "\n",
    "    # 중간 인덱스\n",
    "    middle = len(L) // 2\n",
    "\n",
    "    # 리스트의 인덱스 개수가 짝수\n",
    "    if len(L) % 2 == 0 :\n",
    "        # 중간 2개 숫자 저장\n",
    "        median = [L[middle-1], L[middle]]\n",
    "    # 리스트 인덱스 개수가 홀수\n",
    "    else :\n",
    "        median = L[middle]\n",
    "\n",
    "    # 결과 반환\n",
    "    return median\n",
    "\n",
    "print(L)\n",
    "print(L2)\n",
    "print(L3)\n",
    "print(find_median(L))\n",
    "print(find_median(L2))\n",
    "print(find_median(L3))\n",
    "print(L)\n",
    "print(L2)\n",
    "print(L3)"
   ]
  }
 ],
 "metadata": {
  "colab": {
   "collapsed_sections": [],
   "name": "Chapter.01 파이썬 프로그래밍-10. 함수 (실습).ipynb",
   "provenance": []
  },
  "kernelspec": {
   "display_name": "Python 3 (ipykernel)",
   "language": "python",
   "name": "python3"
  },
  "language_info": {
   "codemirror_mode": {
    "name": "ipython",
    "version": 3
   },
   "file_extension": ".py",
   "mimetype": "text/x-python",
   "name": "python",
   "nbconvert_exporter": "python",
   "pygments_lexer": "ipython3",
   "version": "3.12.2"
  }
 },
 "nbformat": 4,
 "nbformat_minor": 1
}
