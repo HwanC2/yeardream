{
 "cells": [
  {
   "cell_type": "markdown",
   "metadata": {},
   "source": [
    "**[문제 1]**\n",
    "\n",
    "다음 dictionary에서 학생별 평균 점수를 출력하세요."
   ]
  },
  {
   "cell_type": "code",
   "execution_count": 1,
   "metadata": {},
   "outputs": [],
   "source": [
    "grades = {\n",
    "    \"Alice\": {\"Math\": 88, \"Science\": 90, \"English\": 97, \"History\": 82},\n",
    "    \"Bob\": {\"Math\": 92, \"Science\": 78, \"English\": 85, \"History\": 88},\n",
    "    \"Charlie\": {\"Math\": 87, \"Science\": 95, \"English\": 80, \"History\": 92}\n",
    "}"
   ]
  },
  {
   "cell_type": "code",
   "execution_count": 12,
   "metadata": {},
   "outputs": [
    {
     "name": "stdout",
     "output_type": "stream",
     "text": [
      "Alice의 과목별 점수 총합은 357이며 평균은 89.25입니다.\n",
      "Bob의 과목별 점수 총합은 343이며 평균은 85.75입니다.\n",
      "Charlie의 과목별 점수 총합은 354이며 평균은 88.50입니다.\n"
     ]
    }
   ],
   "source": [
    "# 학생별 평균 구하기\n",
    "\n",
    "# 학생들의 수만큼 반복\n",
    "for student, subjects in grades.items():\n",
    "    # 학생별 점수 합계 = 과목 점수 총합\n",
    "    total_score = sum(subjects.values())\n",
    "    # 평균 구하기 = 합계 / 과목수\n",
    "    average = total_score / len(subjects)\n",
    "    # 점수 출력\n",
    "    print(f\"{student}의 과목별 점수 총합은 {total_score}이며 평균은 {average:.2f}입니다.\")\n"
   ]
  },
  {
   "cell_type": "markdown",
   "metadata": {},
   "source": [
    "**[문제 2]**\n",
    "\n",
    "비밀번호 강도 체크\n",
    "\n",
    "사용자로부터 비밀번호를 입력받아, 그 비밀번호가 강한지 약한지를 평가하는 프로그램을 작성하세요. 비밀번호 강도는 다음 조건에 따라 결정됩니다:\n",
    "\n",
    "8자리 이상, 숫자와 영문자(대문자 및 소문자)를 모두 포함: \"강함\"\n",
    "그렇지 않으면: \"약함\"\n",
    "\n",
    "[HINT] str.isdigit(), str.isalpha(), str.isalnum()\n",
    "- str.isalpha() : str이 alphabet으로만 이루어져 있는지 체크. \n",
    "- str.isdigit() : str이 digit(숫자)로만 이루어져 있는지 체크.\n",
    "- str.isalnum() : str이 alphabet 또는 digit으로 이루어져 있는지 체크."
   ]
  },
  {
   "cell_type": "code",
   "execution_count": 13,
   "metadata": {},
   "outputs": [
    {
     "name": "stdout",
     "output_type": "stream",
     "text": [
      "강함\n"
     ]
    }
   ],
   "source": [
    "# 비밀번호 입력받기\n",
    "password = input('비밀번호 입력 : ')\n",
    "\n",
    "# 비밀번호가 8자리 이상인지 체크\n",
    "if len(password) >= 8:\n",
    "    # str이 alphabet 또는 digit으로 이루어져 있는 체크\n",
    "    if password.isalnum():\n",
    "        # str.isalpha() : str이 alphabet으로만 이루어져 있는지 체크\n",
    "        # str.isdigit() : str이 digit(숫자)로만 이루어져 있는지 체크\n",
    "        if password.isalpha() or password.isdigit():\n",
    "            print(\"약함\")\n",
    "        # 비밀번호는 알파벳과 숫자가 함께 사용되었으므로 보안강도가 강하다.\n",
    "        else:\n",
    "            print(\"강함\")\n",
    "    else:\n",
    "        print(\"약함\")\n",
    "else:\n",
    "    print(\"약함\")"
   ]
  },
  {
   "cell_type": "markdown",
   "metadata": {},
   "source": [
    "**[문제 3]**\n",
    "\n",
    "유저 로그인 관리\n",
    "\n",
    "아래 users라는 dictionary에는 각 유저들의 이름과 해당 유저의 password, user_role이 순서대로 리스트로 주어져있다.\n",
    "users를 이용하여 3가지 기능을 구현하라."
   ]
  },
  {
   "cell_type": "code",
   "execution_count": 4,
   "metadata": {},
   "outputs": [],
   "source": [
    "users = {\n",
    "    \"hongju\": [\"password123\", \"admin\"],\n",
    "    \"heesang\": [\"qwerty\", \"editor\"],\n",
    "    \"youngju\": [\"123456\", \"viewer\"],\n",
    "    \"chulsoo\": [\"123456\", \"human\"],\n",
    "}"
   ]
  },
  {
   "cell_type": "markdown",
   "metadata": {},
   "source": [
    "1. 유저의 이름을 입력받고, 입력받은 유저의 이름이 users에 없다면 \"Access Denied\"를 출력.\n",
    "2. 입력받은 유저의 이름이 users에 있다면 비밀번호 입력 받기.\n",
    "3. 비밀번호가 일치시 \"Pass\", 불일치시 \"Wrong Password\" 출력.\n",
    "4. 로그인 완료시 유저 역할에 따라 출력\n",
    "- \"admin\" >> \"Full Access\"\n",
    "- \"editor\" >> \"Edit Permission\"\n",
    "- \"viewer\" >> \"View Permission\""
   ]
  },
  {
   "cell_type": "code",
   "execution_count": 21,
   "metadata": {},
   "outputs": [
    {
     "name": "stdout",
     "output_type": "stream",
     "text": [
      "False\n"
     ]
    }
   ],
   "source": [
    "# 유저이름 입력받기\n",
    "my_name = input('유저의 이름을 입력하세요 : ')\n",
    "\n",
    "# 등록된 유저의 수만큼 반복\n",
    "for user_name, user_info in users.items() :\n",
    "    # 기존 유저이름과 입력한 이름이 같은지 체크\n",
    "    if user_name == my_name :\n",
    "        # 유저 비밀번호 입력받기\n",
    "        password = input('비밀번호 입력 : ')\n",
    "\n",
    "        # 유저가 입력한 비밀번호가 일치하는지 체크\n",
    "        if password in user_info :\n",
    "            # 패스워드가 일치함을 출력\n",
    "            print('Pass')\n",
    "\n",
    "            # 역할에 따라 출력\n",
    "            if user_info[1] == 'admin' :    # admin일 경우\n",
    "                print('Full Access')\n",
    "            elif user_info[1] == 'editor' : # editor일 경우\n",
    "                print('Edit Permission')\n",
    "            else :                          # viewer일 경우\n",
    "                print('View Permission')\n",
    "        # 패스워드가 틀릴경우 출력\n",
    "        else :\n",
    "            print('Wrong Password')\n",
    "\n",
    "    # 등록되지 않은 회원일 경우 출력\n",
    "    elif my_name in users == False :\n",
    "        print('Access Denied')\n"
   ]
  }
 ],
 "metadata": {
  "kernelspec": {
   "display_name": "base",
   "language": "python",
   "name": "python3"
  },
  "language_info": {
   "codemirror_mode": {
    "name": "ipython",
    "version": 3
   },
   "file_extension": ".py",
   "mimetype": "text/x-python",
   "name": "python",
   "nbconvert_exporter": "python",
   "pygments_lexer": "ipython3",
   "version": "3.12.2"
  }
 },
 "nbformat": 4,
 "nbformat_minor": 2
}
