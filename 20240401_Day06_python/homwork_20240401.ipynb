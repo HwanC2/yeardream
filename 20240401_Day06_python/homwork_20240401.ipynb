{
 "cells": [
  {
   "cell_type": "markdown",
   "metadata": {},
   "source": [
    "**[문제 1]**\n",
    "\n",
    "수업시간에 사용했던 test.txt 파일에서 짝수번째 라인에 있는 텍스트만 뽑아서 result2.txt로 저장하는 코드를 만들어보세요."
   ]
  },
  {
   "cell_type": "code",
   "execution_count": 13,
   "metadata": {},
   "outputs": [
    {
     "name": "stdout",
     "output_type": "stream",
     "text": [
      "['우리 예쁜 콩지\\n', '내콩지 \\n', '콩주님\\n', '내 예쁜이\\n', '내 사랑스러운 검은 솜사탕\\n']\n"
     ]
    }
   ],
   "source": [
    "# text.txt 파일 읽기\n",
    "with open('./test.txt', 'r') as f :\n",
    "    # 파일의 내용을 줄 단위로 읽어서 리스트로 만든다.\n",
    "    lines = f.readlines()\n",
    "\n",
    "# 짝수 : [::2]\n",
    "# 홀수 : [1::2]\n",
    "even_lines = lines[1::2]\n",
    "\n",
    "# result2.txt 파일에(없다면 생성해서) 쓰기\n",
    "with open('result2.txt', 'w') as f :\n",
    "    f.writelines(even_lines)\n",
    "\n",
    "# 결과 출력\n",
    "print(even_lines)"
   ]
  },
  {
   "cell_type": "markdown",
   "metadata": {},
   "source": [
    "**[문제 2]**\n",
    "\n",
    "<aside>\n",
    "은행 계좌를 나타내는 `BankAccount` 클래스를 작성하세요. 이 클래스는 다음과 같은 속성과 메서드를 가져야 합니다.\n",
    "\n",
    "\n",
    "> **[속성]**\n",
    "> \n",
    "> \n",
    "> - `account_number` (문자열): 계좌 번호\n",
    "> - `balance` (실수): 잔액\n",
    "> \n",
    "\n",
    "> **[메서드]**\n",
    "> \n",
    "> \n",
    "> - `__init__(self, account_number, balance)` : 객체를 초기화하는 생성자\n",
    "> - `deposit(self, amount)` : 지정된 금액을 계좌에 입금하는 메서드\n",
    "> - `withdraw(self, amount)` : 지정된 금액을 계좌에서 출금하는 메서드\n",
    "> - `display_balance(self)` : 현재 잔액을 출력하는 메서드\n",
    "> \n",
    "</aside>"
   ]
  },
  {
   "cell_type": "code",
   "execution_count": 19,
   "metadata": {},
   "outputs": [
    {
     "name": "stdout",
     "output_type": "stream",
     "text": [
      "계좌 개설 완료.\n",
      "현재 잔액 : 0원\n",
      "5865000원 입금 완료.\n",
      "현재 잔액 : 5865000원\n",
      "373450원 출금 완료.\n",
      "현재 잔액 : 5491550원\n"
     ]
    }
   ],
   "source": [
    "# 은행 계좌 클래스\n",
    "class BankAccount :\n",
    "    # 생성자\n",
    "    def __init__(self, account_number, balance) :\n",
    "        self.account_number = account_number\n",
    "        self.balance = balance\n",
    "        print(\"계좌 개설 완료.\")\n",
    "        self.display_balance()\n",
    "    # 입금 메서드\n",
    "    def deposit(self, amount) :\n",
    "        self.balance += amount\n",
    "        print(f\"{amount}원 입금 완료.\")\n",
    "        self.display_balance()\n",
    "    # 출금 메서드\n",
    "    def withdraw(self, amount) :\n",
    "        if self.balance >= amount :\n",
    "            self.balance -= amount\n",
    "            print(f\"{amount}원 출금 완료.\")\n",
    "        else :\n",
    "            print(\"계좌 잔액이 부족합니다.\")\n",
    "        self.display_balance()\n",
    "    # 계좌 잔액 출력 메서드\n",
    "    def display_balance(self) :\n",
    "        print(f\"현재 잔액 : {self.balance}원\")\n",
    "\n",
    "tossbank = BankAccount(140916, 0)   # 계좌 개설\n",
    "tossbank.deposit(5865000)           # 입금\n",
    "tossbank.withdraw(373450)           # 출금"
   ]
  },
  {
   "cell_type": "markdown",
   "metadata": {},
   "source": [
    "**[문제 3]**\n",
    "\n",
    "<aside>\n",
    "주어진 텍스트 파일에 있는 각 단어별 개수를 dictionary에 저장하는 코드를 작성하고, 해당 dictionary를 JSON 파일로 저장하세요.\n",
    "\n",
    "> **데이터 링크** : https://drive.google.com/file/d/1cBgzZvDFZw9pd4abKNFu5qHWODF-4gqL/view?usp=sharing\n",
    "> \n",
    "\n",
    "**(아래 JSON 파일 저장하는 예시코드를 활용하세요)**\n",
    "</aside>"
   ]
  },
  {
   "cell_type": "code",
   "execution_count": 20,
   "metadata": {},
   "outputs": [],
   "source": [
    "import json\n",
    "\n",
    "# 저장할 딕셔너리\n",
    "data = {\n",
    "    \"name\": \"John\",\n",
    "    \"age\": 30,\n",
    "    \"city\": \"New York\",\n",
    "    \"hobbies\": [\"reading\", \"traveling\", \"music\"],\n",
    "    \"married\": False\n",
    "}\n",
    "\n",
    "# JSON 파일로 저장\n",
    "with open(\"data.json\", \"w\") as file:\n",
    "    json.dump(data, file)"
   ]
  },
  {
   "cell_type": "code",
   "execution_count": 56,
   "metadata": {},
   "outputs": [
    {
     "name": "stdout",
     "output_type": "stream",
     "text": [
      "word_counts : {'하드웨어': 315, '세션': 225, '디자인': 315, '인터프리터': 282, '메서드': 264, '비트버킷': 340, '애플': 207, '팀즈': 281, '네이버': 167, '앱': 236, '데스크탑앱': 314, '메모리': 277, '비지오': 97, 'FTP': 318, 'HTTP': 208, '네트워크': 342, 'IMAP': 370, 'LG': 232, '슬랙': 334, 'AWS': 258, '객체': 155, 'SSL': 196, 'UDP': 306, '암호화': 288, 'WAN': 234, '이메일': 281, '모니터': 268, '오피스': 281, '워드': 333, '스캐너': 279, '해시': 305, '프린터': 187, '캐시': 289, '허브': 334, '웹사이트': 264, 'TLS': 231, '페이팔': 284, '레지스트리': 337, '암호': 193, 'PHP': 298, '모바일앱': 294, '웹앱': 326, '알고리즘': 235, '계약': 287, 'NAS': 383, '사파리': 330, '클라이언트': 294, '웨이보': 221, '키': 294, '인증': 236, '운영체제': 339, 'AI': 306, '자바': 183, 'NoSQL': 223, '도커': 440, '크롬': 250, '비자': 153, '파일': 195, 'PostgreSQL': 406, 'MySQL': 309, '클래스': 343, '알리바바': 218, '티스토리': 385, 'iOS': 195, '원드라이브': 285, '아키텍처': 239, '원노트': 378, '지라': 304, '권한': 267, '프로세스': 245, '쉘': 307, '윈도우': 241, '컨테이너': 358, 'VR': 195, '프로젝트': 350, '파이썬': 267, '파이토치': 328, '서버': 309, '러스트': 316, 'GCP': 216, '인스턴스': 229, '아웃룩': 159, 'SMTP': 305, 'VPN': 408, '컴파일러': 173, '액세스': 332, 'TCP': 226, '디버거': 254, '고': 221, '디스커버리': 271, '스카이프': 210, '페이스북': 259, '퍼블리셔': 202, '추상화': 254, '파이어폭스': 353, '트위터': 310, '텐서플로우': 269, '플랫폼': 285, '텐센트': 196, 'HTTPS': 234, '아마존': 249, '게임': 249, 'C': 275, '인스타그램': 193, 'MongoDB': 335, '라인': 276, '버퍼': 229, '서명': 240, '컴퓨터': 207, '아메리칸익스프레스': 257, '오라클': 209, '마스터카드': 331, 'SQL': 297, 'POP3': 213, '가상화': 230, 'ICMP': 323, 'SK': 244, '캡슐화': 287, '마우스': 120, 'DNS': 216, '텔레그램': 199, 'IP': 236, 'LAN': 242, '맥': 309, '함수': 227, '다형성': 217, '머신러닝': 284, '변수': 262, '신경망': 330, '엑셀': 243, '스위프트': 173, 'C++': 205, '에디터': 226, '넷플릭스': 219, '블록체인': 237, '리눅스': 224, 'SQLite': 304, '인터넷': 283, '데이터베이스': 304, 'GPU': 279, '클라우드': 305, '시스템': 244, 'SAN': 273, '패턴': 311, '비트코인': 203, '카카오톡': 182, 'CPU': 185, '상속': 371, 'IDE': 301, '토큰': 309, '프레임워크': 276, '모듈': 220, '테스트': 275, '안드로이드': 212, '프로토콜': 288, '코틀린': 306, '디스크': 268, '딥러닝': 325, '소프트웨어': 250, '다음': 283, '키보드': 293, '라이브러리': 237, '이베이': 298, '인증서': 290, '파워포인트': 296, '스레드': 214, '스크립트': 204, '엣지': 374, '쿠키': 229, '깃허브': 246, '인터페이스': 251, '패키지': 293, '디지털': 280, 'AR': 152, '스마트': 247, 'WLAN': 209, '입출력': 219, '펄': 398, '구글': 257, 'DHCP': 193, 'KT': 257, '애저': 285, '이더리움': 207, '삼성': 198, '쿠버네티스': 171, '루비': 264, '유튜브': 222, '속성': 150, '자바스크립트': 203, 'C#': 168}\n",
      "words.txt 파일 단어의 개수를 words.json 파일에 저장 완료.\n"
     ]
    }
   ],
   "source": [
    "import json\n",
    "\n",
    "# 텍스트 파일에서 단어의 개수를 세는 메서드\n",
    "def count_words(file_path:str) :\n",
    "    # 파일 읽기\n",
    "    with open(file_path, 'r', encoding='utf-8') as f :\n",
    "        # 파일의 내용을 읽어서 text에 저장\n",
    "        text = f.readlines()\n",
    "\n",
    "    # text를 공백('\\n')을 기준으로 나누어 words 리스트에 저장\n",
    "    words = []\n",
    "    for t in text :\n",
    "        words.append(t.replace('\\n',''))\n",
    "\n",
    "    # 단어의 개수를 저장할 딕셔너리\n",
    "    word_counts = {}\n",
    "\n",
    "    # words 리스트 길이만큼 반복\n",
    "    for word in words :\n",
    "        # 단어가 딕셔너리에 이미 있을 경우\n",
    "        if word in word_counts :\n",
    "            # 그 단어의 개수를 1 증가\n",
    "            word_counts[word] += 1\n",
    "        # 단어가 딕셔너리에 없을 경우\n",
    "        else :\n",
    "            # 새로운 단어를 딕셔너리에 추가하고 개수를 1로 설정\n",
    "            word_counts[word] = 1\n",
    "\n",
    "    # 단어의 개수가 저장된 딕셔너리를 반환\n",
    "    return word_counts\n",
    "\n",
    "# \"words.txt\" 파일에서 단어의 개수를 세고, 그 결과를 딕셔너리로 저장\n",
    "word_counts = count_words('./words.txt')\n",
    "\n",
    "# 딕셔너리를 json 파일로 저장\n",
    "# json 파일 한글 저장시 글자 깨짐 방지 : ensure_ascii=False\n",
    "with open('words.json', 'w', encoding='utf-8') as f :\n",
    "    json.dump(word_counts, f, ensure_ascii=False)\n",
    "\n",
    "# 성공 메세지 출력\n",
    "print('word_counts :', word_counts)\n",
    "print(\"words.txt 파일 단어의 개수를 words.json 파일에 저장 완료.\")\n",
    "        "
   ]
  },
  {
   "cell_type": "code",
   "execution_count": 40,
   "metadata": {},
   "outputs": [],
   "source": [
    "# 중복되는 단어 5000개 생성\n",
    "import random \n",
    "\n",
    "with open('./words.txt', 'r') as f :\n",
    "    words = f.readlines()\n",
    "\n",
    "output = []\n",
    "for i in range(0,50000) :\n",
    "    rand_index = random.randint(0, len(words)-1)\n",
    "    output.append(words[rand_index])\n",
    "\n",
    "with open('./words2.txt', 'w') as f :\n",
    "    f.writelines(output)"
   ]
  }
 ],
 "metadata": {
  "kernelspec": {
   "display_name": "base",
   "language": "python",
   "name": "python3"
  },
  "language_info": {
   "codemirror_mode": {
    "name": "ipython",
    "version": 3
   },
   "file_extension": ".py",
   "mimetype": "text/x-python",
   "name": "python",
   "nbconvert_exporter": "python",
   "pygments_lexer": "ipython3",
   "version": "3.12.2"
  }
 },
 "nbformat": 4,
 "nbformat_minor": 2
}
