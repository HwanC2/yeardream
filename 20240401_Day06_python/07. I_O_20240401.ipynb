{
 "cells": [
  {
   "cell_type": "markdown",
   "metadata": {
    "id": "7KaEFFwmaz9f"
   },
   "source": [
    "## I/O (Input / Output) "
   ]
  },
  {
   "cell_type": "markdown",
   "metadata": {
    "id": "Ob-m8XQbaz9o"
   },
   "source": [
    "### 1. STDIN / STDOUT (Standard IN, Standard OUT)"
   ]
  },
  {
   "cell_type": "markdown",
   "metadata": {
    "id": "I9B1Br_0az9o"
   },
   "source": [
    "- 파이썬은 input()을 통해서 stdin을 사용자로부터 입력받을 수 있다.\n",
    "\n",
    "\n",
    "- 파이썬은 print()를 통해서 stdout을 사용자에게 출력할 수 있다."
   ]
  },
  {
   "cell_type": "code",
   "execution_count": 1,
   "metadata": {
    "id": "NcHNtr58az9p"
   },
   "outputs": [
    {
     "data": {
      "text/plain": [
       "str"
      ]
     },
     "execution_count": 1,
     "metadata": {},
     "output_type": "execute_result"
    }
   ],
   "source": [
    "# a에 키보드로 입력받은 값을 할당하고 출력해본다.\n",
    "a = input()  # return value의 data type이 str\n",
    "type(a)"
   ]
  },
  {
   "cell_type": "markdown",
   "metadata": {
    "id": "-9bkJP0haz9q"
   },
   "source": [
    "- 파이썬에서는 stdin은 무조건 문자열 타입으로 들어온다. 이를 type casting을 통해서 다른 데이터 타입으로 바꾸어 사용해야 한다."
   ]
  },
  {
   "cell_type": "code",
   "execution_count": 3,
   "metadata": {
    "id": "Kre90bwsaz9r"
   },
   "outputs": [
    {
     "data": {
      "text/plain": [
       "8"
      ]
     },
     "execution_count": 3,
     "metadata": {},
     "output_type": "execute_result"
    }
   ],
   "source": [
    "# 입력받는 값을 숫자라고 가정한 경우.\n",
    "a = input(\"숫자 하나를 입력해주세요 : \")\n",
    "a = int(a)  # type casting\n",
    "a + 3"
   ]
  },
  {
   "cell_type": "code",
   "execution_count": 11,
   "metadata": {
    "id": "8iinAvVAaz9r"
   },
   "outputs": [
    {
     "name": "stdout",
     "output_type": "stream",
     "text": [
      "숫자를 입력해주세요\n",
      "숫자를 입력해주세요\n",
      "숫자를 입력해주세요\n",
      "숫자를 입력해주세요\n",
      "숫자를 입력해주세요\n",
      "숫자를 입력해주세요\n",
      "숫자를 입력해주세요\n",
      "숫자를 입력해주세요\n"
     ]
    }
   ],
   "source": [
    "# 입력받는 값을 숫자라고 가정했는데 문자열이 들어오면 에러가 난다. 이 경우는 type casting이 실패한 경우이다.\n",
    "\n",
    "# input 함수를 통해서 숫자를 하나 입력받은 다음에 3을 더한 값을 출력하려고 한다.\n",
    "## 만약에, input으로 숫자가 아닌(= int로 변환이 안되는) 입력이 들어온 경우\n",
    "## \"숫자를 입력해주세요\" 라는 문구를 출력한 뒤에, 숫자가 들어올 때까지 입력을 계속받는 코드를 작성해주세요!\n",
    "#####################################\n",
    "###  [HINT]  while, try - except  ###\n",
    "#####################################\n",
    "\n",
    "# 1)\n",
    "while True:  # infinite loop\n",
    "    try:\n",
    "        a = int(input())\n",
    "        #a = input()\n",
    "        ## assert isinstance(a, int)\n",
    "        print(a + 3)\n",
    "        break  # 이 코드를 실행하면 loop를 빠져나감.\n",
    "    except ValueError:  # invalid literal for int() with base 10\n",
    "        print(\"숫자를 입력해주세요\", flush=True)\n",
    "\n",
    "# 2)\n",
    "flag = True\n",
    "while flag:\n",
    "    try:\n",
    "        a = int(input())\n",
    "        print(a + 3)\n",
    "        flag = False\n",
    "    except ValueError:  # invalid literal for int() with base 10\n",
    "        print(\"숫자를 입력해주세요\")\n",
    "\n",
    "# 3)\n",
    "flag = True\n",
    "while flag:\n",
    "    a = input()\n",
    "    if a.isdigit():\n",
    "        a = int(a)\n",
    "        print(a + 3)\n",
    "        flag = False\n",
    "    else:\n",
    "        print(\"숫자를 입력해주세요\")"
   ]
  },
  {
   "cell_type": "markdown",
   "metadata": {
    "id": "6eZWUq_Daz9r"
   },
   "source": [
    "- 입력이 문자열이기 때문에 fancy하게 input을 처리할 수 있는 방법이 있다."
   ]
  },
  {
   "cell_type": "markdown",
   "metadata": {
    "id": "XDI8URO8az9s"
   },
   "source": [
    "#### Q. 만약에 stdin으로 여러 개의 숫자가 들어오는 경우, 입력의 format을 알고 있다고 가정했을 때, 이를 효과적으로 처리할 수 있을까?"
   ]
  },
  {
   "cell_type": "code",
   "execution_count": 19,
   "metadata": {
    "id": "sg0e_5H5az9s"
   },
   "outputs": [
    {
     "name": "stdout",
     "output_type": "stream",
     "text": [
      "a b c e d f  "
     ]
    }
   ],
   "source": [
    "# 이는 숫자를 2개로 가정한 경우\n",
    "#a, b = 30, 50\n",
    "# a = input()\n",
    "# b, c = a.split(',')\n",
    "# b = int(b)\n",
    "# c = int(c)\n",
    "\n",
    "# 들어올 숫자가 몇 개인지 모를 때, 이를 모두 stdin 입력받아서 다 더하려고 합니다.\n",
    "# inputs = input(\"숫자를 여러개 입력해주세요 : e.g. 5, 30, 1, ...\")\n",
    "\n",
    "# # 1)\n",
    "# total = []\n",
    "# for x in inputs.split(','):\n",
    "#     x = int(x)\n",
    "#     total.append(x)\n",
    "# print(total, sum(total))\n",
    "\n",
    "\n",
    "## List comprehension  --> 특정 원소 표현을 가지는 리스트를 만들고 싶을 때 사용\n",
    "## [표현식 for 변수 in (iterable object)]\n",
    "\n",
    "# 2)\n",
    "# total = [int(x) for x in inputs.split(',')]\n",
    "# print(total, sum(total))\n",
    "\n",
    "\n",
    "## 입력 : a, b, c, d, ..., ajks, ejfkl, fjf,\n",
    "## 출력 : a b c d ... ajks ejfkl fjf\n",
    "## 조건 : split() 함수에서 ','를 쓰지 않고 빈 칸으로 잘라서 사용하세요.\n",
    "temp = input()\n",
    "outputs = []\n",
    "for x in temp.split():\n",
    "    x = x[:-1]\n",
    "    #x = x.replace(',', '')\n",
    "    outputs.append(x)\n",
    "\n",
    "outputs = [x[:-1] for x in temp.split()]\n",
    "\n",
    "for x in outputs:\n",
    "    print(x, end=' ')"
   ]
  },
  {
   "cell_type": "markdown",
   "metadata": {
    "id": "DPYlwZhEaz9t"
   },
   "source": [
    "### 2. File I/O"
   ]
  },
  {
   "cell_type": "markdown",
   "metadata": {
    "id": "HqaNOvZG1sgw"
   },
   "source": [
    "- file I/O란 프로그램에서 파일을 저장하고 불러오는 모든 것들을 의미합니다.\n",
    "\n",
    "- file에는 txt, png, json, xlsx 등 여러가지 종류가 있습니다.\n",
    "\n",
    "- 그 중에서 가장 간단하게 사용할 수 있는 데이터는 txt 파일입니다."
   ]
  },
  {
   "cell_type": "markdown",
   "metadata": {
    "id": "BGNX1KElaz9t"
   },
   "source": [
    "> 텍스트 파일을 여는 방법에는 read(), readline(), readlines(), for문을 이용한 방법이 있다. 코드를 통해 각 방법의 차이를 알아보자."
   ]
  },
  {
   "cell_type": "code",
   "execution_count": null,
   "metadata": {},
   "outputs": [],
   "source": [
    "#절대경로 :\n",
    "#컴퓨터내에 정확하게 표현되어 있는 경로.\n",
    "# C:/Users/A/Documents/... (Windows)\n",
    "# /usr/A/Documents/.... (macOS, Linux)\n",
    "\n",
    "#상대경로 :\n",
    "#코드(프로그램)이 실행되고 있는 위치를 기준으로 한 파일의 경로.\n",
    "'./test.txt'  # 현재 실행되는 코드와 같은 폴더에 있는 test.txt\n",
    "'../test.txt' # 현재 실행되는 코드의 상위 폴더에 있는 test.txt"
   ]
  },
  {
   "cell_type": "markdown",
   "metadata": {},
   "source": [
    "#### 파일을 불러올 때 생기는 분노 포인트\n",
    "\n",
    "1. 경로를 인식하지 못하는 경우\n",
    "\n",
    "> 경로에 영어가 아닌 다른 글자(주로 한글)이 있는 경우에 인식하지 못하는 케이스가 있음.\n",
    "\n",
    "> 경로가 진짜로 틀린 경우. e.g. '/' '\\'\n",
    "\n",
    "2. 파일 내부의 데이터가 **한글** 텍스트인 경우\n",
    "\n",
    "> 기본적으로 텍스트를 'utf-8' 이라는 방식으로 인코딩함.\n",
    "\n",
    "> 윈도우 + 한글 : cp949"
   ]
  },
  {
   "cell_type": "code",
   "execution_count": 4,
   "metadata": {
    "id": "VKYHye1baz9u"
   },
   "outputs": [
    {
     "data": {
      "text/plain": [
       "'콩지 보고싶다.\\n우리 예쁜 콩지.\\n콩지 사랑해.\\n내 사랑스러운 검은 솜사탕.\\n콩지야 보고싶어.'"
      ]
     },
     "execution_count": 4,
     "metadata": {},
     "output_type": "execute_result"
    }
   ],
   "source": [
    "# f.read()를 통해 data 폴더안에 있는 test.txt를 read mode로 열어봅니다.\n",
    "## read - r, (over)write - w, append - a\n",
    "\n",
    "# macOS에서 한글로 편집한 txt 파일을 윈도우에서 열 때\n",
    "# with open('./test.txt', 'r', encoding='utf-8') as f:  \n",
    "#     txt = f.read()  # 주어진 파일에 있는 모든 텍스트를 하나의 string으로 불러옴.\n",
    "\n",
    "# 윈도우에서 한글로 편집한 txt 파일을 macOS에서 열 때\n",
    "with open('./test.txt', 'r', encoding='cp949') as f:  \n",
    "    txt = f.read()  # 주어진 파일에 있는 모든 텍스트를 하나의 string으로 불러옴.\n",
    "\n",
    "txt"
   ]
  },
  {
   "cell_type": "code",
   "execution_count": 5,
   "metadata": {
    "id": "4DSliMQlaz9u"
   },
   "outputs": [
    {
     "data": {
      "text/plain": [
       "'콩지 보고싶다.\\n'"
      ]
     },
     "execution_count": 5,
     "metadata": {},
     "output_type": "execute_result"
    }
   ],
   "source": [
    "# f.readline()를 통해 data 폴더안에 있는 test.txt를 read mode로 열어봅니다.\n",
    "with open('./test.txt', 'r') as f:\n",
    "    line = f.readline() # 주어진 파일에 있는 첫번째 줄을 하나의 string으로 불러옴.\n",
    "line"
   ]
  },
  {
   "cell_type": "code",
   "execution_count": 6,
   "metadata": {
    "id": "SLD_zgm4az9u"
   },
   "outputs": [
    {
     "data": {
      "text/plain": [
       "['콩지 보고싶다.\\n', '우리 예쁜 콩지.\\n', '콩지 사랑해.\\n', '내 사랑스러운 검은 솜사탕.\\n', '콩지야 보고싶어.']"
      ]
     },
     "execution_count": 6,
     "metadata": {},
     "output_type": "execute_result"
    }
   ],
   "source": [
    "# f.readlines()를 통해 data 폴더안에 있는 test.txt를 read mode로 열어봅니다.\n",
    "with open('./test.txt', 'r') as f:\n",
    "    lines = f.readlines() # 주어진 파일에 있는 모든 텍스트를 한 줄 단위씩 리스트의 원소로 가져옴.\n",
    "lines"
   ]
  },
  {
   "cell_type": "code",
   "execution_count": 7,
   "metadata": {
    "id": "WEP8wGLoaz9u"
   },
   "outputs": [
    {
     "data": {
      "text/plain": [
       "['콩지 보고싶다.', '우리 예쁜 콩지.', '콩지 사랑해.', '내 사랑스러운 검은 솜사탕.', '콩지야 보고싶어.']"
      ]
     },
     "execution_count": 7,
     "metadata": {},
     "output_type": "execute_result"
    }
   ],
   "source": [
    "# for문을 통해 data 폴더안에 있는 test.txt를 read mode로 열어서 출력해봅니다.\n",
    "with open('./test.txt', 'r') as f:\n",
    "    #txt = [line.replace('\\n', '') for line in f]\n",
    "    txt = [line.strip() for line in f]\n",
    "txt"
   ]
  },
  {
   "cell_type": "markdown",
   "metadata": {
    "id": "RJ7dLzyeaz9v"
   },
   "source": [
    "#### Q. test.txt를 열어서 한글자짜리를 다 지우고 다시 저장하고 싶다. 어떻게 해야할까?"
   ]
  },
  {
   "cell_type": "code",
   "execution_count": 8,
   "metadata": {
    "id": "fP0xhI0Caz9v"
   },
   "outputs": [
    {
     "name": "stdout",
     "output_type": "stream",
     "text": [
      "['콩지 보고싶다.\\n', '우리 예쁜 콩지.\\n', '콩지 사랑해.\\n', '내 사랑스러운 검은 솜사탕.\\n', '콩지야 보고싶어.']\n"
     ]
    }
   ],
   "source": [
    "# test.txt를 read mode로 열고 할 일이 끝나면 자동으로 닫는다.\n",
    "# 두글자 이상인 텍스트만 output list에 저장한다.\n",
    "output = []\n",
    "with open('./test.txt', 'r') as f:\n",
    "    for line in f:\n",
    "        if len(line.strip()) > 1:\n",
    "            output.append(line)\n",
    "print(output)\n",
    "\n",
    "# result.txt로 output list에 있는 내용을 저장하기 위해 write mode로 열었다.\n",
    "# 해당 경로 파일이 있으면 update, 있으면 새로 만듬.\n",
    "with open('./result.txt', 'w') as f:\n",
    "    for word in output:\n",
    "        f.write(word)  # word라는 변수에 있는 string을 f에 차례대로 저장."
   ]
  },
  {
   "cell_type": "code",
   "execution_count": 9,
   "metadata": {
    "id": "WT40gJ8Naz9v"
   },
   "outputs": [
    {
     "data": {
      "text/plain": [
       "['콩지 보고싶다.\\n', '우리 예쁜 콩지.\\n', '콩지 사랑해.\\n', '내 사랑스러운 검은 솜사탕.\\n', '콩지야 보고싶어.']"
      ]
     },
     "execution_count": 9,
     "metadata": {},
     "output_type": "execute_result"
    }
   ],
   "source": [
    "# 제대로 데이터가 저장되어 있는지, 불러와서 확인한다.\n",
    "with open('result.txt', 'r') as f:\n",
    "    output = [line for line in f]\n",
    "output"
   ]
  },
  {
   "cell_type": "markdown",
   "metadata": {
    "id": "Z1O6wq4Baz9v"
   },
   "source": [
    "### (OPTIONAL) pickle 라이브러리를 통해서 파이썬 object 자체를 저장하기"
   ]
  },
  {
   "cell_type": "code",
   "execution_count": 10,
   "metadata": {
    "id": "Y8SXE8dDaz9v"
   },
   "outputs": [
    {
     "data": {
      "text/plain": [
       "['콩지 보고싶다.\\n', '우리 예쁜 콩지.\\n', '콩지 사랑해.\\n', '내 사랑스러운 검은 솜사탕.\\n', '콩지야 보고싶어.']"
      ]
     },
     "execution_count": 10,
     "metadata": {},
     "output_type": "execute_result"
    }
   ],
   "source": [
    "output"
   ]
  },
  {
   "cell_type": "code",
   "execution_count": 11,
   "metadata": {
    "id": "aRRPi3VZaz9w"
   },
   "outputs": [],
   "source": [
    "import pickle   # serialization\n",
    "\n",
    "with open(\"result.pk\", 'wb') as f:   # write as binary\n",
    "    pickle.dump(output, f)"
   ]
  },
  {
   "cell_type": "code",
   "execution_count": 12,
   "metadata": {},
   "outputs": [
    {
     "data": {
      "text/plain": [
       "['콩지 보고싶다.\\n', '우리 예쁜 콩지.\\n', '콩지 사랑해.\\n', '내 사랑스러운 검은 솜사탕.\\n', '콩지야 보고싶어.']"
      ]
     },
     "execution_count": 12,
     "metadata": {},
     "output_type": "execute_result"
    }
   ],
   "source": [
    "with open(\"result.pk\", 'rb') as f:  # read as binary\n",
    "    output2 = pickle.load(f)  # f에 저장되어 있는 파이썬 변수를 불러와서 output2에 할당.\n",
    "    \n",
    "output2"
   ]
  }
 ],
 "metadata": {
  "colab": {
   "collapsed_sections": [],
   "name": "Chapter.01 파이썬 프로그래밍-12. I/O (실습).ipynb",
   "provenance": []
  },
  "kernelspec": {
   "display_name": "Python 3 (ipykernel)",
   "language": "python",
   "name": "python3"
  },
  "language_info": {
   "codemirror_mode": {
    "name": "ipython",
    "version": 3
   },
   "file_extension": ".py",
   "mimetype": "text/x-python",
   "name": "python",
   "nbconvert_exporter": "python",
   "pygments_lexer": "ipython3",
   "version": "3.12.2"
  }
 },
 "nbformat": 4,
 "nbformat_minor": 1
}
